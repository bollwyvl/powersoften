{
 "cells": [
  {
   "cell_type": "markdown",
   "metadata": {
    "slideshow": {
     "slide_type": "slide"
    }
   },
   "source": [
    "# A Presentation for RENCI\n",
    "\n",
    "November 1, 2017\n",
    "\n",
    "The Nick and Tony Show\n",
    "\n",
    "RIPx"
   ]
  },
  {
   "cell_type": "code",
   "execution_count": 1,
   "metadata": {
    "slideshow": {
     "slide_type": "slide"
    }
   },
   "outputs": [
    {
     "data": {
      "text/html": [
       "<style>\n",
       "    iframe {\n",
       "        width: 100%;\n",
       "        min-height: 80vh;\n",
       "    }\n",
       "    body.rise-enabled .code_cell .input,  div.reveal .code_cell .input {\n",
       "        display: none;\n",
       "    }\n",
       "</style>"
      ],
      "text/plain": [
       "<IPython.core.display.HTML object>"
      ]
     },
     "metadata": {},
     "output_type": "display_data"
    }
   ],
   "source": [
    "    from IPython.display import *\n",
    "    from renci.style import *\n",
    "    %load_ext literacy.template\n",
    "    from nbformat.v4 import *; from pathlib import Path; from articles import *; from nbformat import *"
   ]
  },
  {
   "cell_type": "code",
   "execution_count": 2,
   "metadata": {
    "slideshow": {
     "slide_type": "slide"
    }
   },
   "outputs": [
    {
     "data": {
      "text/markdown": [
       "# Topics\n",
       "\n",
       "The major `topics = 'intro, design, systems, materials, community, media, culture'.replace(' ','').split(',')`.  "
      ],
      "text/plain": [
       "<IPython.core.display.Markdown object>"
      ]
     },
     "metadata": {},
     "output_type": "display_data"
    }
   ],
   "source": [
    "# Topics\n",
    "\n",
    "The major `topics = 'intro, design, systems, materials, community, media, culture'.replace(' ','').split(',')`.  "
   ]
  },
  {
   "cell_type": "code",
   "execution_count": 2,
   "metadata": {
    "slideshow": {
     "slide_type": "slide"
    }
   },
   "outputs": [
    {
     "data": {
      "text/markdown": [
       "* [renci/intro.ipynb](renci/intro.ipynb \"intro\")\n",
       "* [renci/design.ipynb](renci/design.ipynb \"design\")\n",
       "* [renci/systems.ipynb](renci/systems.ipynb \"systems\")\n",
       "* [renci/materials.ipynb](renci/materials.ipynb \"materials\")\n",
       "* [renci/community.ipynb](renci/community.ipynb \"community\")\n",
       "* [renci/media.ipynb](renci/media.ipynb \"media\")\n",
       "* [renci/culture.ipynb](renci/culture.ipynb \"culture\")\n"
      ],
      "text/plain": [
       "<IPython.core.display.Markdown object>"
      ]
     },
     "metadata": {},
     "output_type": "display_data"
    }
   ],
   "source": [
    "{% for topic in topics %}* [renci/{{topic}}.ipynb](renci/{{topic}}.ipynb \"{{topic}}\")\n",
    "{% endfor %}"
   ]
  },
  {
   "cell_type": "code",
   "execution_count": 3,
   "metadata": {},
   "outputs": [
    {
     "data": {
      "text/markdown": [
       "    %%file rise.py\n",
       "    c.SlidesExporter.reveal_url_prefix=\"https://cdn.jsdelivr.net/npm/reveal.js@3.5.0\""
      ],
      "text/plain": [
       "<IPython.core.display.Markdown object>"
      ]
     },
     "metadata": {},
     "output_type": "display_data"
    },
    {
     "name": "stdout",
     "output_type": "stream",
     "text": [
      "Overwriting rise.py\n"
     ]
    }
   ],
   "source": [
    "    %%file rise.py\n",
    "    c.SlidesExporter.reveal_url_prefix=\"https://cdn.jsdelivr.net/npm/reveal.js@3.5.0\""
   ]
  },
  {
   "cell_type": "code",
   "execution_count": 4,
   "metadata": {},
   "outputs": [
    {
     "data": {
      "text/markdown": [
       "## Convert individual notebooks\n",
       "\n",
       "    %%bash\n",
       "    pushd renci\n",
       "    jupyter nbconvert --to slides --config rise.py  intro.ipynb \n",
       "    jupyter nbconvert --to slides --config rise.py  design.ipynb \n",
       "    jupyter nbconvert --to slides --config rise.py  systems.ipynb \n",
       "    jupyter nbconvert --to slides --config rise.py  materials.ipynb \n",
       "    jupyter nbconvert --to slides --config rise.py  community.ipynb \n",
       "    jupyter nbconvert --to slides --config rise.py  media.ipynb \n",
       "    jupyter nbconvert --to slides --config rise.py  culture.ipynb\n",
       "    popd"
      ],
      "text/plain": [
       "<IPython.core.display.Markdown object>"
      ]
     },
     "metadata": {},
     "output_type": "display_data"
    },
    {
     "name": "stdout",
     "output_type": "stream",
     "text": [
      "~/powersoften/renci ~/powersoften\n",
      "~/powersoften\n"
     ]
    },
    {
     "name": "stderr",
     "output_type": "stream",
     "text": [
      "[NbConvertApp] Converting notebook intro.ipynb to slides\n",
      "[NbConvertApp] Writing 358282 bytes to intro.slides.html\n",
      "[NbConvertApp] Converting notebook design.ipynb to slides\n",
      "[NbConvertApp] Writing 284544 bytes to design.slides.html\n",
      "[NbConvertApp] Converting notebook systems.ipynb to slides\n",
      "[NbConvertApp] Writing 286906 bytes to systems.slides.html\n",
      "[NbConvertApp] Converting notebook materials.ipynb to slides\n",
      "[NbConvertApp] Writing 1454455 bytes to materials.slides.html\n",
      "[NbConvertApp] Converting notebook community.ipynb to slides\n",
      "[NbConvertApp] Writing 290412 bytes to community.slides.html\n",
      "[NbConvertApp] Converting notebook media.ipynb to slides\n",
      "[NbConvertApp] Writing 427931 bytes to media.slides.html\n",
      "[NbConvertApp] Converting notebook culture.ipynb to slides\n",
      "[NbConvertApp] Writing 280696 bytes to culture.slides.html\n"
     ]
    }
   ],
   "source": [
    "## Convert individual notebooks\n",
    "\n",
    "    %%bash\n",
    "    pushd renci\n",
    "    jupyter nbconvert --to slides --config rise.py  intro.ipynb \n",
    "    jupyter nbconvert --to slides --config rise.py  design.ipynb \n",
    "    jupyter nbconvert --to slides --config rise.py  systems.ipynb \n",
    "    jupyter nbconvert --to slides --config rise.py  materials.ipynb \n",
    "    jupyter nbconvert --to slides --config rise.py  community.ipynb \n",
    "    jupyter nbconvert --to slides --config rise.py  media.ipynb \n",
    "    jupyter nbconvert --to slides --config rise.py  culture.ipynb\n",
    "    popd"
   ]
  },
  {
   "cell_type": "code",
   "execution_count": 7,
   "metadata": {
    "scrolled": false,
    "slideshow": {
     "slide_type": "slide"
    }
   },
   "outputs": [
    {
     "data": {
      "text/markdown": [
       "## Create a master notebook.\n",
       "    \n",
       "    nb = new_notebook()    \n",
       "    for topic in topics:\n",
       "        topic = 'renci' / Path(topic)\n",
       "        cells = reads(topic.with_suffix('.ipynb').read_text(), 4).cells\n",
       "        for i, cell in enumerate(cells):\n",
       "            if 'slideshow' in cell['metadata'] and cell['metadata']['slideshow']['slide_type'] != 'skip':\n",
       "                if i>0 and cell['cell_type'] == 'code' and cell['metadata']['slideshow']['slide_type'] =='slide': \n",
       "                    cell['metadata']['slideshow']['slide_type'] = 'subslide'\n",
       "                nb.cells.append(cell)\n",
       "    nb.cells.append(new_code_cell(\"import style\", outputs=[new_output('display_data', {'text/html': [css]})]))\n",
       "    Path('full.ipynb').write_text(writes(nb))\n",
       "    !jupyter trust renci/full.ipynb\n",
       "    !jupyter nbconvert --to slides --config rise.py --stdout renci/full.ipynb > index.html"
      ],
      "text/plain": [
       "<IPython.core.display.Markdown object>"
      ]
     },
     "metadata": {},
     "output_type": "display_data"
    },
    {
     "name": "stdout",
     "output_type": "stream",
     "text": [
      "Signing notebook: renci/full.ipynb\n",
      "[NbConvertApp] Converting notebook renci/full.ipynb to slides\n"
     ]
    }
   ],
   "source": [
    "## Create a master notebook.\n",
    "    \n",
    "    nb = new_notebook()    \n",
    "    for topic in topics:\n",
    "        topic = 'renci' / Path(topic)\n",
    "        cells = reads(topic.with_suffix('.ipynb').read_text(), 4).cells\n",
    "        for i, cell in enumerate(cells):\n",
    "            if 'slideshow' in cell['metadata'] and cell['metadata']['slideshow']['slide_type'] != 'skip':\n",
    "                if i>0 and cell['cell_type'] == 'code' and cell['metadata']['slideshow']['slide_type'] =='slide': \n",
    "                    cell['metadata']['slideshow']['slide_type'] = 'subslide'\n",
    "                nb.cells.append(cell)\n",
    "    nb.cells.append(new_code_cell(\"import style\", outputs=[new_output('display_data', {'text/html': [css]})]))\n",
    "    Path('full.ipynb').write_text(writes(nb))\n",
    "    !jupyter trust renci/full.ipynb\n",
    "    !jupyter nbconvert --to slides --config rise.py --stdout renci/full.ipynb > index.html"
   ]
  },
  {
   "cell_type": "code",
   "execution_count": 6,
   "metadata": {},
   "outputs": [
    {
     "data": {
      "text/markdown": [
       "    !jupyter nbconvert --to markdown --TemplateExporter.exclude_input=True readme.ipynb"
      ],
      "text/plain": [
       "<IPython.core.display.Markdown object>"
      ]
     },
     "metadata": {},
     "output_type": "display_data"
    },
    {
     "name": "stdout",
     "output_type": "stream",
     "text": [
      "[NbConvertApp] Converting notebook readme.ipynb to markdown\n",
      "[NbConvertApp] Writing 3492 bytes to readme.md\n"
     ]
    }
   ],
   "source": [
    "    !jupyter nbconvert --to markdown --TemplateExporter.exclude_input=True readme.ipynb"
   ]
  }
 ],
 "metadata": {
  "celltoolbar": "Slideshow",
  "kernelspec": {
   "display_name": "Python 3",
   "language": "python",
   "name": "python3"
  },
  "language_info": {
   "codemirror_mode": {
    "name": "ipython",
    "version": 3
   },
   "file_extension": ".py",
   "mimetype": "text/x-python",
   "name": "python",
   "nbconvert_exporter": "python",
   "pygments_lexer": "ipython3",
   "version": "3.5.3"
  }
 },
 "nbformat": 4,
 "nbformat_minor": 2
}
