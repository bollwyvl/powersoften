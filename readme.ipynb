{
 "cells": [
  {
   "cell_type": "markdown",
   "metadata": {
    "slideshow": {
     "slide_type": "slide"
    }
   },
   "source": [
    "# A Presentation for RENCI\n",
    "\n",
    "November 1, 2017\n",
    "\n",
    "The Nick and Tony Show\n",
    "\n",
    "RIPx"
   ]
  },
  {
   "cell_type": "code",
   "execution_count": 1,
   "metadata": {
    "slideshow": {
     "slide_type": "slide"
    }
   },
   "outputs": [
    {
     "data": {
      "text/html": [
       "<style>\n",
       "    iframe {\n",
       "        width: 100%;\n",
       "        min-height: 80vh;\n",
       "    }\n",
       "\n",
       "    body.rise-enabled .code_cell .input,\n",
       "    div.reveal .code_cell .input,\n",
       "    div.reveal .output_stderr,\n",
       "    div.rise-enabled .output_stderr {\n",
       "        display: none;\n",
       "    }\n",
       "</style>"
      ],
      "text/plain": [
       "<IPython.core.display.HTML object>"
      ]
     },
     "metadata": {},
     "output_type": "display_data"
    }
   ],
   "source": [
    "    from IPython.display import *\n",
    "    from renci.style import *\n",
    "    %load_ext literacy.template\n",
    "    from nbformat.v4 import *; from pathlib import Path; from articles import *; from nbformat import *"
   ]
  },
  {
   "cell_type": "code",
   "execution_count": 3,
   "metadata": {
    "slideshow": {
     "slide_type": "slide"
    }
   },
   "outputs": [
    {
     "data": {
      "text/markdown": [
       "# Topics\n",
       "\n",
       "The major `topics = 'intro, design, systems, materials, community, media, culture'.replace(' ','').split(',')`.  "
      ],
      "text/plain": [
       "<IPython.core.display.Markdown object>"
      ]
     },
     "metadata": {},
     "output_type": "display_data"
    }
   ],
   "source": [
    "# Topics\n",
    "\n",
    "The major `topics = 'intro, design, systems, materials, community, media, culture'.replace(' ','').split(',')`.  "
   ]
  },
  {
   "cell_type": "code",
   "execution_count": 3,
   "metadata": {
    "slideshow": {
     "slide_type": "slide"
    }
   },
   "outputs": [
    {
     "data": {
      "text/markdown": [
       "## Notebooks\n",
       "\n",
       "* [renci/intro.ipynb](renci/intro.ipynb \"intro\")\n",
       "* [renci/design.ipynb](renci/design.ipynb \"design\")\n",
       "* [renci/systems.ipynb](renci/systems.ipynb \"systems\")\n",
       "* [renci/materials.ipynb](renci/materials.ipynb \"materials\")\n",
       "* [renci/community.ipynb](renci/community.ipynb \"community\")\n",
       "* [renci/media.ipynb](renci/media.ipynb \"media\")\n",
       "* [renci/culture.ipynb](renci/culture.ipynb \"culture\")\n"
      ],
      "text/plain": [
       "<IPython.core.display.Markdown object>"
      ]
     },
     "metadata": {},
     "output_type": "display_data"
    }
   ],
   "source": [
    "## Notebooks\n",
    "\n",
    "{% for topic in topics %}* [renci/{{topic}}.ipynb](renci/{{topic}}.ipynb \"{{topic}}\")\n",
    "{% endfor %}"
   ]
  },
  {
   "cell_type": "code",
   "execution_count": 3,
   "metadata": {
    "slideshow": {
     "slide_type": "slide"
    }
   },
   "outputs": [
    {
     "data": {
      "text/markdown": [
       "## Slides\n",
       "\n",
       "* [renci/intro.slides.html](renci/intro.slides.html \"intro\")\n",
       "* [renci/design.slides.html](renci/design.slides.html \"design\")\n",
       "* [renci/systems.slides.html](renci/systems.slides.html \"systems\")\n",
       "* [renci/materials.slides.html](renci/materials.slides.html \"materials\")\n",
       "* [renci/community.slides.html](renci/community.slides.html \"community\")\n",
       "* [renci/media.slides.html](renci/media.slides.html \"media\")\n",
       "* [renci/culture.slides.html](renci/culture.slides.html \"culture\")\n"
      ],
      "text/plain": [
       "<IPython.core.display.Markdown object>"
      ]
     },
     "metadata": {},
     "output_type": "display_data"
    }
   ],
   "source": [
    "## Slides\n",
    "\n",
    "{% for topic in topics %}* [renci/{{topic}}.slides.html](renci/{{topic}}.slides.html \"{{topic}}\")\n",
    "{% endfor %}"
   ]
  },
  {
   "cell_type": "code",
   "execution_count": 3,
   "metadata": {},
   "outputs": [
    {
     "data": {
      "text/markdown": [
       "## Building the Presentation\n",
       "\n",
       "[![Build Status](https://travis-ci.org/tonyfast/powersoften.svg?branch=master)](https://travis-ci.org/tonyfast/powersoften)"
      ],
      "text/plain": [
       "<IPython.core.display.Markdown object>"
      ]
     },
     "metadata": {},
     "output_type": "display_data"
    }
   ],
   "source": [
    "## Building the Presentation\n",
    "\n",
    "[![Build Status](https://travis-ci.org/tonyfast/powersoften.svg?branch=master)](https://travis-ci.org/tonyfast/powersoften)"
   ]
  },
  {
   "cell_type": "code",
   "execution_count": 4,
   "metadata": {},
   "outputs": [
    {
     "data": {
      "text/markdown": [
       "    %%file rise.py\n",
       "    c.SlidesExporter.reveal_url_prefix=\"https://cdn.jsdelivr.net/npm/reveal.js@3.5.0\""
      ],
      "text/plain": [
       "<IPython.core.display.Markdown object>"
      ]
     },
     "metadata": {},
     "output_type": "display_data"
    },
    {
     "name": "stdout",
     "output_type": "stream",
     "text": [
      "Overwriting rise.py\n"
     ]
    }
   ],
   "source": [
    "    %%file rise.py\n",
    "    c.SlidesExporter.reveal_url_prefix=\"https://cdn.jsdelivr.net/npm/reveal.js@3.5.0\""
   ]
  },
  {
   "cell_type": "code",
   "execution_count": 7,
   "metadata": {},
   "outputs": [
    {
     "data": {
      "text/markdown": [
       "## Convert individual notebooks\n",
       "\n",
       "    %%bash\n",
       "    pushd renci\n",
       "    jupyter nbconvert --to slides --config rise.py  intro.ipynb \n",
       "#     jupyter nbconvert --to slides --config rise.py  design.ipynb \n",
       "#     jupyter nbconvert --to slides --config rise.py  systems.ipynb \n",
       "#     jupyter nbconvert --to slides --config rise.py  materials.ipynb \n",
       "#     jupyter nbconvert --to slides --config rise.py  community.ipynb \n",
       "#     jupyter nbconvert --to slides --config rise.py  media.ipynb \n",
       "#     jupyter nbconvert --to slides --config rise.py  culture.ipynb\n",
       "    popd"
      ],
      "text/plain": [
       "<IPython.core.display.Markdown object>"
      ]
     },
     "metadata": {},
     "output_type": "display_data"
    },
    {
     "name": "stdout",
     "output_type": "stream",
     "text": [
      "~/powersoften/renci ~/powersoften\n",
      "~/powersoften\n"
     ]
    },
    {
     "name": "stderr",
     "output_type": "stream",
     "text": [
      "[NbConvertApp] Converting notebook intro.ipynb to slides\n",
      "[NbConvertApp] Writing 359591 bytes to intro.slides.html\n"
     ]
    }
   ],
   "source": [
    "## Convert individual notebooks\n",
    "\n",
    "    %%bash\n",
    "    pushd renci\n",
    "    jupyter nbconvert --to slides --config rise.py  intro.ipynb \n",
    "#     jupyter nbconvert --to slides --config rise.py  design.ipynb \n",
    "#     jupyter nbconvert --to slides --config rise.py  systems.ipynb \n",
    "#     jupyter nbconvert --to slides --config rise.py  materials.ipynb \n",
    "#     jupyter nbconvert --to slides --config rise.py  community.ipynb \n",
    "#     jupyter nbconvert --to slides --config rise.py  media.ipynb \n",
    "#     jupyter nbconvert --to slides --config rise.py  culture.ipynb\n",
    "    popd"
   ]
  },
  {
   "cell_type": "code",
   "execution_count": 11,
   "metadata": {
    "scrolled": false,
    "slideshow": {
     "slide_type": "slide"
    }
   },
   "outputs": [
    {
     "data": {
      "text/markdown": [
       "## Create a master notebook.\n",
       "    \n",
       "    nb = new_notebook()    \n",
       "    for topic in topics:\n",
       "        topic = 'renci' / Path(topic)\n",
       "        cells = reads(topic.with_suffix('.ipynb').read_text(), 4).cells\n",
       "        for i, cell in enumerate(cells):\n",
       "            if 'slideshow' in cell['metadata'] and cell['metadata']['slideshow']['slide_type'] != 'skip':\n",
       "                if i>0 and cell['cell_type'] == 'code' and cell['metadata']['slideshow']['slide_type'] =='slide': \n",
       "                    cell['metadata']['slideshow']['slide_type'] = 'subslide'\n",
       "                nb.cells.append(cell)\n",
       "    nb.cells.append(new_code_cell(\"import style\", outputs=[new_output('display_data', {'text/html': [css]})]))\n",
       "    (topic.parent / Path('index.ipynb')).write_text(writes(nb))\n",
       "    !jupyter trust renci/index.ipynb\n",
       "    !jupyter nbconvert --to slides --config rise.py --stdout renci/index.ipynb > index.html"
      ],
      "text/plain": [
       "<IPython.core.display.Markdown object>"
      ]
     },
     "metadata": {},
     "output_type": "display_data"
    },
    {
     "name": "stdout",
     "output_type": "stream",
     "text": [
      "Notebook already signed: renci/index.ipynb\n",
      "[NbConvertApp] Converting notebook renci/index.ipynb to slides\n"
     ]
    }
   ],
   "source": [
    "## Create a master notebook.\n",
    "    \n",
    "    nb = new_notebook()    \n",
    "    for topic in topics:\n",
    "        topic = 'renci' / Path(topic)\n",
    "        cells = reads(topic.with_suffix('.ipynb').read_text(), 4).cells\n",
    "        for i, cell in enumerate(cells):\n",
    "            if 'slideshow' in cell['metadata'] and cell['metadata']['slideshow']['slide_type'] != 'skip':\n",
    "                if i>0 and cell['cell_type'] == 'code' and cell['metadata']['slideshow']['slide_type'] =='slide': \n",
    "                    cell['metadata']['slideshow']['slide_type'] = 'subslide'\n",
    "                nb.cells.append(cell)\n",
    "    nb.cells.append(new_code_cell(\"import style\", outputs=[new_output('display_data', {'text/html': [css]})]))\n",
    "    (topic.parent / Path('index.ipynb')).write_text(writes(nb))\n",
    "    !jupyter trust renci/index.ipynb\n",
    "    !jupyter nbconvert --to slides --config rise.py --stdout renci/index.ipynb > index.html"
   ]
  },
  {
   "cell_type": "code",
   "execution_count": 6,
   "metadata": {},
   "outputs": [
    {
     "data": {
      "text/markdown": [
       "    !jupyter nbconvert --to markdown --TemplateExporter.exclude_input=True readme.ipynb"
      ],
      "text/plain": [
       "<IPython.core.display.Markdown object>"
      ]
     },
     "metadata": {},
     "output_type": "display_data"
    },
    {
     "name": "stdout",
     "output_type": "stream",
     "text": [
      "[NbConvertApp] Converting notebook readme.ipynb to markdown\n",
      "[NbConvertApp] Writing 4298 bytes to readme.md\n"
     ]
    }
   ],
   "source": [
    "    !jupyter nbconvert --to markdown --TemplateExporter.exclude_input=True readme.ipynb"
   ]
  }
 ],
 "metadata": {
  "celltoolbar": "Slideshow",
  "kernelspec": {
   "display_name": "Python 3",
   "language": "python",
   "name": "python3"
  },
  "language_info": {
   "codemirror_mode": {
    "name": "ipython",
    "version": 3
   },
   "file_extension": ".py",
   "mimetype": "text/x-python",
   "name": "python",
   "nbconvert_exporter": "python",
   "pygments_lexer": "ipython3",
   "version": "3.5.3"
  }
 },
 "nbformat": 4,
 "nbformat_minor": 2
}
