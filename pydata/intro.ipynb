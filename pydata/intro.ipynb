{
 "cells": [
  {
   "cell_type": "markdown",
   "metadata": {
    "slideshow": {
     "slide_type": "slide"
    }
   },
   "source": [
    "# Powers of_ten_\n",
    "\n",
    "A talk inspired by __Powers of Ten__ released in _1977_ a collaboration between Ray and Charles Eames and [IBM]().  This talk was created using Jupyter Notebooks and Lab.  We used RISE for our presentation."
   ]
  },
  {
   "cell_type": "code",
   "execution_count": 1,
   "metadata": {
    "scrolled": true,
    "slideshow": {
     "slide_type": "-"
    }
   },
   "outputs": [
    {
     "data": {
      "text/html": [
       "<style>\n",
       "    iframe {\n",
       "        width: 100%;\n",
       "        min-height: 80vh;\n",
       "        max-height: 1000px;\n",
       "    }\n",
       "</style>"
      ],
      "text/plain": [
       "<IPython.core.display.HTML object>"
      ]
     },
     "metadata": {},
     "output_type": "display_data"
    },
    {
     "data": {
      "text/html": [
       "<style>\n",
       "body.rise-hack-active div.reveal .code_cell .input,\n",
       "body.rise-hack-active div.reveal .output_stderr {\n",
       "    display: none;\n",
       "}\n",
       "button.rise-hack:hover {\n",
       "    opacity: 0.7;\n",
       "}\n",
       "button.rise-hack {\n",
       "    font-weight: bold;\n",
       "}\n",
       "body.rise-hack-active button.rise-hack {\n",
       "    text-decoration: line-through;\n",
       "}\n",
       "</style>"
      ],
      "text/plain": [
       "<IPython.core.display.HTML object>"
      ]
     },
     "metadata": {},
     "output_type": "display_data"
    },
    {
     "data": {
      "application/javascript": [
       ";(function(){\n",
       "    function init() {\n",
       "        $(\"button.rise-hack\").remove();\n",
       "        $(\"body\").addClass(\"rise-hack-active\");\n",
       "        var btn = $(\"<button/>\", {\"class\": \"rise-hack\"}).text(\"</>\");\n",
       "        btn.bind(\"click\", function(){\n",
       "            $(\"body\").toggleClass(\"rise-hack-active\");\n",
       "            Reveal.layout();\n",
       "        });\n",
       "        $(\".controls\").append(btn);\n",
       "    }\n",
       "\n",
       "    function subscribe(){\n",
       "        if(!window.Reveal){\n",
       "            return setTimeout(subscribe, 1000);\n",
       "        }\n",
       "        Reveal.addEventListener('ready', init);\n",
       "        init();\n",
       "    }\n",
       "    subscribe();\n",
       "}).call(this);"
      ],
      "text/plain": [
       "<IPython.core.display.Javascript object>"
      ]
     },
     "metadata": {},
     "output_type": "display_data"
    }
   ],
   "source": [
    "    from renci.style import *; from articles import *; from pandas import *; \n",
    "    %load_ext literacy.template"
   ]
  },
  {
   "cell_type": "code",
   "execution_count": 1,
   "metadata": {
    "slideshow": {
     "slide_type": "-"
    }
   },
   "outputs": [
    {
     "data": {
      "text/html": [
       "\n",
       "        <iframe\n",
       "            width=\"600\"\n",
       "            height=\"400\"\n",
       "            src=\"https://www.youtube.com/embed/0fKBhvDjuy0\"\n",
       "            frameborder=\"0\"\n",
       "            allowfullscreen\n",
       "        ></iframe>\n",
       "        "
      ],
      "text/plain": [
       "<IPython.lib.display.IFrame at 0x1042c95f8>"
      ]
     },
     "metadata": {},
     "output_type": "display_data"
    }
   ],
   "source": [
    "https://www.youtube.com/embed/0fKBhvDjuy0"
   ]
  },
  {
   "cell_type": "code",
   "execution_count": 2,
   "metadata": {
    "slideshow": {
     "slide_type": "subslide"
    }
   },
   "outputs": [
    {
     "data": {
      "text/markdown": [
       "## Topics\n",
       "\n",
       "This presentation is inspired by simple geometries.  Eventually we settled on the following key `topics\\`\n",
       "\n",
       "\n",
       "    = 'design, systems, materials, community, media, culture'\n",
       "    \n",
       "with the accompanying `constraints\\`\n",
       "\n",
       "    = 'functional, geographical, physical, people, sensory, time'"
      ],
      "text/plain": [
       "<IPython.core.display.Markdown object>"
      ]
     },
     "metadata": {},
     "output_type": "display_data"
    }
   ],
   "source": [
    "## Topics\n",
    "\n",
    "This presentation is inspired by simple geometries.  Eventually we settled on the following key `topics\\`\n",
    "\n",
    "\n",
    "    = 'design, systems, materials, community, media, culture'\n",
    "    \n",
    "with the accompanying `constraints\\`\n",
    "\n",
    "    = 'functional, geographical, physical, people, sensory, time'"
   ]
  },
  {
   "cell_type": "code",
   "execution_count": 3,
   "metadata": {
    "collapsed": true,
    "slideshow": {
     "slide_type": "-"
    }
   },
   "outputs": [],
   "source": [
    "    \n",
    "    topics, constraints = map(lambda ___: ___.replace(' ', '').split(','),[topics, constraints])"
   ]
  },
  {
   "cell_type": "code",
   "execution_count": 3,
   "metadata": {
    "slideshow": {
     "slide_type": "slide"
    }
   },
   "outputs": [
    {
     "data": {
      "text/markdown": [
       "# [Shapes of the presentation]()"
      ],
      "text/plain": [
       "<IPython.core.display.Markdown object>"
      ]
     },
     "metadata": {},
     "output_type": "display_data"
    }
   ],
   "source": [
    "# [Shapes of the presentation]()"
   ]
  },
  {
   "cell_type": "code",
   "execution_count": 4,
   "metadata": {
    "slideshow": {
     "slide_type": "-"
    }
   },
   "outputs": [
    {
     "data": {
      "text/html": [
       "<div>\n",
       "<style>\n",
       "    .dataframe thead tr:only-child th {\n",
       "        text-align: right;\n",
       "    }\n",
       "\n",
       "    .dataframe thead th {\n",
       "        text-align: left;\n",
       "    }\n",
       "\n",
       "    .dataframe tbody tr th {\n",
       "        vertical-align: top;\n",
       "    }\n",
       "</style>\n",
       "<table border=\"1\" class=\"dataframe\">\n",
       "  <thead>\n",
       "    <tr style=\"text-align: right;\">\n",
       "      <th></th>\n",
       "      <th>constraints</th>\n",
       "      <th>functional</th>\n",
       "      <th>geographical</th>\n",
       "      <th>physical</th>\n",
       "      <th>people</th>\n",
       "      <th>sensory</th>\n",
       "      <th>time</th>\n",
       "    </tr>\n",
       "    <tr>\n",
       "      <th>order</th>\n",
       "      <th>topic</th>\n",
       "      <th></th>\n",
       "      <th></th>\n",
       "      <th></th>\n",
       "      <th></th>\n",
       "      <th></th>\n",
       "      <th></th>\n",
       "    </tr>\n",
       "  </thead>\n",
       "  <tbody>\n",
       "    <tr>\n",
       "      <th>0</th>\n",
       "      <th>design</th>\n",
       "      <td>systems</td>\n",
       "      <td>materials</td>\n",
       "      <td>community</td>\n",
       "      <td>media</td>\n",
       "      <td>culture</td>\n",
       "      <td>design</td>\n",
       "    </tr>\n",
       "    <tr>\n",
       "      <th>1</th>\n",
       "      <th>systems</th>\n",
       "      <td>materials</td>\n",
       "      <td>community</td>\n",
       "      <td>media</td>\n",
       "      <td>culture</td>\n",
       "      <td>design</td>\n",
       "      <td>systems</td>\n",
       "    </tr>\n",
       "    <tr>\n",
       "      <th>2</th>\n",
       "      <th>materials</th>\n",
       "      <td>community</td>\n",
       "      <td>media</td>\n",
       "      <td>culture</td>\n",
       "      <td>design</td>\n",
       "      <td>systems</td>\n",
       "      <td>materials</td>\n",
       "    </tr>\n",
       "    <tr>\n",
       "      <th>3</th>\n",
       "      <th>community</th>\n",
       "      <td>media</td>\n",
       "      <td>culture</td>\n",
       "      <td>design</td>\n",
       "      <td>systems</td>\n",
       "      <td>materials</td>\n",
       "      <td>community</td>\n",
       "    </tr>\n",
       "    <tr>\n",
       "      <th>4</th>\n",
       "      <th>media</th>\n",
       "      <td>culture</td>\n",
       "      <td>design</td>\n",
       "      <td>systems</td>\n",
       "      <td>materials</td>\n",
       "      <td>community</td>\n",
       "      <td>media</td>\n",
       "    </tr>\n",
       "    <tr>\n",
       "      <th>5</th>\n",
       "      <th>culture</th>\n",
       "      <td>design</td>\n",
       "      <td>systems</td>\n",
       "      <td>materials</td>\n",
       "      <td>community</td>\n",
       "      <td>media</td>\n",
       "      <td>culture</td>\n",
       "    </tr>\n",
       "  </tbody>\n",
       "</table>\n",
       "</div>"
      ],
      "text/plain": [
       "constraints     functional geographical   physical     people    sensory  \\\n",
       "order topic                                                                \n",
       "0     design       systems    materials  community      media    culture   \n",
       "1     systems    materials    community      media    culture     design   \n",
       "2     materials  community        media    culture     design    systems   \n",
       "3     community      media      culture     design    systems  materials   \n",
       "4     media        culture       design    systems  materials  community   \n",
       "5     culture       design      systems  materials  community      media   \n",
       "\n",
       "constraints           time  \n",
       "order topic                 \n",
       "0     design        design  \n",
       "1     systems      systems  \n",
       "2     materials  materials  \n",
       "3     community  community  \n",
       "4     media          media  \n",
       "5     culture      culture  "
      ]
     },
     "execution_count": 4,
     "metadata": {},
     "output_type": "execute_result"
    }
   ],
   "source": [
    "    \n",
    "    concat([Series(\n",
    "        a.cycle().do(the[[next]*(i+1)]).take(6).list()(topics), \n",
    "        MultiIndex.from_arrays([range(6), topics], names=['order', 'topic']), name=topics[i]).rename(constraints[i])\n",
    "        for i in range(len(topics))], axis=1).pipe(lambda df: setattr(df, 'columns', df.columns.rename('constraints'))or df)"
   ]
  },
  {
   "cell_type": "code",
   "execution_count": 4,
   "metadata": {},
   "outputs": [
    {
     "data": {
      "text/html": [
       "\n",
       "        <iframe\n",
       "            width=\"600\"\n",
       "            height=\"400\"\n",
       "            src=\"https://en.m.wikipedia.org/wiki/Sierpinski_triangle\"\n",
       "            frameborder=\"0\"\n",
       "            allowfullscreen\n",
       "        ></iframe>\n",
       "        "
      ],
      "text/plain": [
       "<IPython.lib.display.IFrame at 0x102468ba8>"
      ]
     },
     "metadata": {},
     "output_type": "display_data"
    }
   ],
   "source": [
    "https://en.m.wikipedia.org/wiki/Sierpinski_triangle"
   ]
  },
  {
   "cell_type": "code",
   "execution_count": 5,
   "metadata": {
    "slideshow": {
     "slide_type": "subslide"
    }
   },
   "outputs": [
    {
     "data": {
      "text/markdown": [
       "    Import('.Sierpinski Triangle');"
      ],
      "text/plain": [
       "<IPython.core.display.Markdown object>"
      ]
     },
     "metadata": {},
     "output_type": "display_data"
    },
    {
     "data": {
      "text/html": [
       "\n",
       "    <div class=\"bk-root\">\n",
       "        <a href=\"https://bokeh.pydata.org\" target=\"_blank\" class=\"bk-logo bk-logo-small bk-logo-notebook\"></a>\n",
       "        <span id=\"0e6f2b6f-d604-4850-9e9c-3ef3ecad0d1e\">Loading BokehJS ...</span>\n",
       "    </div>"
      ]
     },
     "metadata": {},
     "output_type": "display_data"
    },
    {
     "data": {
      "application/javascript": [
       "\n",
       "(function(root) {\n",
       "  function now() {\n",
       "    return new Date();\n",
       "  }\n",
       "\n",
       "  var force = true;\n",
       "\n",
       "  if (typeof (root._bokeh_onload_callbacks) === \"undefined\" || force === true) {\n",
       "    root._bokeh_onload_callbacks = [];\n",
       "    root._bokeh_is_loading = undefined;\n",
       "  }\n",
       "\n",
       "  var JS_MIME_TYPE = 'application/javascript';\n",
       "  var HTML_MIME_TYPE = 'text/html';\n",
       "  var EXEC_MIME_TYPE = 'application/vnd.bokehjs_exec.v0+json';\n",
       "  var CLASS_NAME = 'output_bokeh rendered_html';\n",
       "\n",
       "  /**\n",
       "   * Render data to the DOM node\n",
       "   */\n",
       "  function render(props, node) {\n",
       "    var script = document.createElement(\"script\");\n",
       "    node.appendChild(script);\n",
       "  }\n",
       "\n",
       "  /**\n",
       "   * Handle when an output is cleared or removed\n",
       "   */\n",
       "  function handleClearOutput(event, handle) {\n",
       "    var cell = handle.cell;\n",
       "\n",
       "    var id = cell.output_area._bokeh_element_id;\n",
       "    var server_id = cell.output_area._bokeh_server_id;\n",
       "    // Clean up Bokeh references\n",
       "    if (id !== undefined) {\n",
       "      Bokeh.index[id].model.document.clear();\n",
       "      delete Bokeh.index[id];\n",
       "    }\n",
       "\n",
       "    if (server_id !== undefined) {\n",
       "      // Clean up Bokeh references\n",
       "      var cmd = \"from bokeh.io import _state; print(_state.uuid_to_server['\" + server_id + \"'].get_sessions()[0].document.roots[0]._id)\";\n",
       "      cell.notebook.kernel.execute(cmd, {\n",
       "        iopub: {\n",
       "          output: function(msg) {\n",
       "            var element_id = msg.content.text.trim();\n",
       "            Bokeh.index[element_id].model.document.clear();\n",
       "            delete Bokeh.index[element_id];\n",
       "          }\n",
       "        }\n",
       "      });\n",
       "      // Destroy server and session\n",
       "      var cmd = \"from bokeh import io; io._destroy_server('\" + server_id + \"')\";\n",
       "      cell.notebook.kernel.execute(cmd);\n",
       "    }\n",
       "  }\n",
       "\n",
       "  /**\n",
       "   * Handle when a new output is added\n",
       "   */\n",
       "  function handleAddOutput(event, handle) {\n",
       "    var output_area = handle.output_area;\n",
       "    var output = handle.output;\n",
       "\n",
       "    // limit handleAddOutput to display_data with EXEC_MIME_TYPE content only\n",
       "    if ((output.output_type != \"display_data\") || (!output.data.hasOwnProperty(EXEC_MIME_TYPE))) {\n",
       "      return\n",
       "    }\n",
       "\n",
       "    var toinsert = output_area.element.find(`.${CLASS_NAME.split(' ')[0]}`);\n",
       "\n",
       "    if (output.metadata[EXEC_MIME_TYPE][\"id\"] !== undefined) {\n",
       "      toinsert[0].firstChild.textContent = output.data[JS_MIME_TYPE];\n",
       "      // store reference to embed id on output_area\n",
       "      output_area._bokeh_element_id = output.metadata[EXEC_MIME_TYPE][\"id\"];\n",
       "    }\n",
       "    if (output.metadata[EXEC_MIME_TYPE][\"server_id\"] !== undefined) {\n",
       "      var bk_div = document.createElement(\"div\");\n",
       "      bk_div.innerHTML = output.data[HTML_MIME_TYPE];\n",
       "      var script_attrs = bk_div.children[0].attributes;\n",
       "      for (var i = 0; i < script_attrs.length; i++) {\n",
       "        toinsert[0].firstChild.setAttribute(script_attrs[i].name, script_attrs[i].value);\n",
       "      }\n",
       "      // store reference to server id on output_area\n",
       "      output_area._bokeh_server_id = output.metadata[EXEC_MIME_TYPE][\"server_id\"];\n",
       "    }\n",
       "  }\n",
       "\n",
       "  function register_renderer(events, OutputArea) {\n",
       "\n",
       "    function append_mime(data, metadata, element) {\n",
       "      // create a DOM node to render to\n",
       "      var toinsert = this.create_output_subarea(\n",
       "        metadata,\n",
       "        CLASS_NAME,\n",
       "        EXEC_MIME_TYPE\n",
       "      );\n",
       "      this.keyboard_manager.register_events(toinsert);\n",
       "      // Render to node\n",
       "      var props = {data: data, metadata: metadata[EXEC_MIME_TYPE]};\n",
       "      render(props, toinsert[0]);\n",
       "      element.append(toinsert);\n",
       "      return toinsert\n",
       "    }\n",
       "\n",
       "    /* Handle when an output is cleared or removed */\n",
       "    events.on('clear_output.CodeCell', handleClearOutput);\n",
       "    events.on('delete.Cell', handleClearOutput);\n",
       "\n",
       "    /* Handle when a new output is added */\n",
       "    events.on('output_added.OutputArea', handleAddOutput);\n",
       "\n",
       "    /**\n",
       "     * Register the mime type and append_mime function with output_area\n",
       "     */\n",
       "    OutputArea.prototype.register_mime_type(EXEC_MIME_TYPE, append_mime, {\n",
       "      /* Is output safe? */\n",
       "      safe: true,\n",
       "      /* Index of renderer in `output_area.display_order` */\n",
       "      index: 0\n",
       "    });\n",
       "  }\n",
       "\n",
       "  // register the mime type if in Jupyter Notebook environment and previously unregistered\n",
       "  if (root.Jupyter !== undefined) {\n",
       "    var events = require('base/js/events');\n",
       "    var OutputArea = require('notebook/js/outputarea').OutputArea;\n",
       "\n",
       "    if (OutputArea.prototype.mime_types().indexOf(EXEC_MIME_TYPE) == -1) {\n",
       "      register_renderer(events, OutputArea);\n",
       "    }\n",
       "  }\n",
       "\n",
       "  \n",
       "  if (typeof (root._bokeh_timeout) === \"undefined\" || force === true) {\n",
       "    root._bokeh_timeout = Date.now() + 5000;\n",
       "    root._bokeh_failed_load = false;\n",
       "  }\n",
       "\n",
       "  var NB_LOAD_WARNING = {'data': {'text/html':\n",
       "     \"<div style='background-color: #fdd'>\\n\"+\n",
       "     \"<p>\\n\"+\n",
       "     \"BokehJS does not appear to have successfully loaded. If loading BokehJS from CDN, this \\n\"+\n",
       "     \"may be due to a slow or bad network connection. Possible fixes:\\n\"+\n",
       "     \"</p>\\n\"+\n",
       "     \"<ul>\\n\"+\n",
       "     \"<li>re-rerun `output_notebook()` to attempt to load from CDN again, or</li>\\n\"+\n",
       "     \"<li>use INLINE resources instead, as so:</li>\\n\"+\n",
       "     \"</ul>\\n\"+\n",
       "     \"<code>\\n\"+\n",
       "     \"from bokeh.resources import INLINE\\n\"+\n",
       "     \"output_notebook(resources=INLINE)\\n\"+\n",
       "     \"</code>\\n\"+\n",
       "     \"</div>\"}};\n",
       "\n",
       "  function display_loaded() {\n",
       "    var el = document.getElementById(\"0e6f2b6f-d604-4850-9e9c-3ef3ecad0d1e\");\n",
       "    if (el != null) {\n",
       "      el.textContent = \"BokehJS is loading...\";\n",
       "    }\n",
       "    if (root.Bokeh !== undefined) {\n",
       "      if (el != null) {\n",
       "        el.textContent = \"BokehJS \" + root.Bokeh.version + \" successfully loaded.\";\n",
       "      }\n",
       "    } else if (Date.now() < root._bokeh_timeout) {\n",
       "      setTimeout(display_loaded, 100)\n",
       "    }\n",
       "  }\n",
       "\n",
       "\n",
       "  function run_callbacks() {\n",
       "    try {\n",
       "      root._bokeh_onload_callbacks.forEach(function(callback) { callback() });\n",
       "    }\n",
       "    finally {\n",
       "      delete root._bokeh_onload_callbacks\n",
       "    }\n",
       "    console.info(\"Bokeh: all callbacks have finished\");\n",
       "  }\n",
       "\n",
       "  function load_libs(js_urls, callback) {\n",
       "    root._bokeh_onload_callbacks.push(callback);\n",
       "    if (root._bokeh_is_loading > 0) {\n",
       "      console.log(\"Bokeh: BokehJS is being loaded, scheduling callback at\", now());\n",
       "      return null;\n",
       "    }\n",
       "    if (js_urls == null || js_urls.length === 0) {\n",
       "      run_callbacks();\n",
       "      return null;\n",
       "    }\n",
       "    console.log(\"Bokeh: BokehJS not loaded, scheduling load and callback at\", now());\n",
       "    root._bokeh_is_loading = js_urls.length;\n",
       "    for (var i = 0; i < js_urls.length; i++) {\n",
       "      var url = js_urls[i];\n",
       "      var s = document.createElement('script');\n",
       "      s.src = url;\n",
       "      s.async = false;\n",
       "      s.onreadystatechange = s.onload = function() {\n",
       "        root._bokeh_is_loading--;\n",
       "        if (root._bokeh_is_loading === 0) {\n",
       "          console.log(\"Bokeh: all BokehJS libraries loaded\");\n",
       "          run_callbacks()\n",
       "        }\n",
       "      };\n",
       "      s.onerror = function() {\n",
       "        console.warn(\"failed to load library \" + url);\n",
       "      };\n",
       "      console.log(\"Bokeh: injecting script tag for BokehJS library: \", url);\n",
       "      document.getElementsByTagName(\"head\")[0].appendChild(s);\n",
       "    }\n",
       "  };var element = document.getElementById(\"0e6f2b6f-d604-4850-9e9c-3ef3ecad0d1e\");\n",
       "  if (element == null) {\n",
       "    console.log(\"Bokeh: ERROR: autoload.js configured with elementid '0e6f2b6f-d604-4850-9e9c-3ef3ecad0d1e' but no matching script tag was found. \")\n",
       "    return false;\n",
       "  }\n",
       "\n",
       "  var js_urls = [\"https://cdn.pydata.org/bokeh/release/bokeh-0.12.9.min.js\", \"https://cdn.pydata.org/bokeh/release/bokeh-widgets-0.12.9.min.js\", \"https://cdn.pydata.org/bokeh/release/bokeh-tables-0.12.9.min.js\", \"https://cdn.pydata.org/bokeh/release/bokeh-gl-0.12.9.min.js\"];\n",
       "\n",
       "  var inline_js = [\n",
       "    function(Bokeh) {\n",
       "      Bokeh.set_log_level(\"info\");\n",
       "    },\n",
       "    \n",
       "    function(Bokeh) {\n",
       "      \n",
       "    },\n",
       "    function(Bokeh) {\n",
       "      console.log(\"Bokeh: injecting CSS: https://cdn.pydata.org/bokeh/release/bokeh-0.12.9.min.css\");\n",
       "      Bokeh.embed.inject_css(\"https://cdn.pydata.org/bokeh/release/bokeh-0.12.9.min.css\");\n",
       "      console.log(\"Bokeh: injecting CSS: https://cdn.pydata.org/bokeh/release/bokeh-widgets-0.12.9.min.css\");\n",
       "      Bokeh.embed.inject_css(\"https://cdn.pydata.org/bokeh/release/bokeh-widgets-0.12.9.min.css\");\n",
       "      console.log(\"Bokeh: injecting CSS: https://cdn.pydata.org/bokeh/release/bokeh-tables-0.12.9.min.css\");\n",
       "      Bokeh.embed.inject_css(\"https://cdn.pydata.org/bokeh/release/bokeh-tables-0.12.9.min.css\");\n",
       "    }\n",
       "  ];\n",
       "\n",
       "  function run_inline_js() {\n",
       "    \n",
       "    if ((root.Bokeh !== undefined) || (force === true)) {\n",
       "      for (var i = 0; i < inline_js.length; i++) {\n",
       "        inline_js[i].call(root, root.Bokeh);\n",
       "      }if (force === true) {\n",
       "        display_loaded();\n",
       "      }} else if (Date.now() < root._bokeh_timeout) {\n",
       "      setTimeout(run_inline_js, 100);\n",
       "    } else if (!root._bokeh_failed_load) {\n",
       "      console.log(\"Bokeh: BokehJS failed to load within specified timeout.\");\n",
       "      root._bokeh_failed_load = true;\n",
       "    } else if (force !== true) {\n",
       "      var cell = $(document.getElementById(\"0e6f2b6f-d604-4850-9e9c-3ef3ecad0d1e\")).parents('.cell').data().cell;\n",
       "      cell.output_area.append_execute_result(NB_LOAD_WARNING)\n",
       "    }\n",
       "\n",
       "  }\n",
       "\n",
       "  if (root._bokeh_is_loading === 0) {\n",
       "    console.log(\"Bokeh: BokehJS loaded, going straight to plotting\");\n",
       "    run_inline_js();\n",
       "  } else {\n",
       "    load_libs(js_urls, function() {\n",
       "      console.log(\"Bokeh: BokehJS plotting callback run at\", now());\n",
       "      run_inline_js();\n",
       "    });\n",
       "  }\n",
       "}(window));"
      ],
      "application/vnd.bokehjs_load.v0+json": "\n(function(root) {\n  function now() {\n    return new Date();\n  }\n\n  var force = true;\n\n  if (typeof (root._bokeh_onload_callbacks) === \"undefined\" || force === true) {\n    root._bokeh_onload_callbacks = [];\n    root._bokeh_is_loading = undefined;\n  }\n\n  \n\n  \n  if (typeof (root._bokeh_timeout) === \"undefined\" || force === true) {\n    root._bokeh_timeout = Date.now() + 5000;\n    root._bokeh_failed_load = false;\n  }\n\n  var NB_LOAD_WARNING = {'data': {'text/html':\n     \"<div style='background-color: #fdd'>\\n\"+\n     \"<p>\\n\"+\n     \"BokehJS does not appear to have successfully loaded. If loading BokehJS from CDN, this \\n\"+\n     \"may be due to a slow or bad network connection. Possible fixes:\\n\"+\n     \"</p>\\n\"+\n     \"<ul>\\n\"+\n     \"<li>re-rerun `output_notebook()` to attempt to load from CDN again, or</li>\\n\"+\n     \"<li>use INLINE resources instead, as so:</li>\\n\"+\n     \"</ul>\\n\"+\n     \"<code>\\n\"+\n     \"from bokeh.resources import INLINE\\n\"+\n     \"output_notebook(resources=INLINE)\\n\"+\n     \"</code>\\n\"+\n     \"</div>\"}};\n\n  function display_loaded() {\n    var el = document.getElementById(\"0e6f2b6f-d604-4850-9e9c-3ef3ecad0d1e\");\n    if (el != null) {\n      el.textContent = \"BokehJS is loading...\";\n    }\n    if (root.Bokeh !== undefined) {\n      if (el != null) {\n        el.textContent = \"BokehJS \" + root.Bokeh.version + \" successfully loaded.\";\n      }\n    } else if (Date.now() < root._bokeh_timeout) {\n      setTimeout(display_loaded, 100)\n    }\n  }\n\n\n  function run_callbacks() {\n    try {\n      root._bokeh_onload_callbacks.forEach(function(callback) { callback() });\n    }\n    finally {\n      delete root._bokeh_onload_callbacks\n    }\n    console.info(\"Bokeh: all callbacks have finished\");\n  }\n\n  function load_libs(js_urls, callback) {\n    root._bokeh_onload_callbacks.push(callback);\n    if (root._bokeh_is_loading > 0) {\n      console.log(\"Bokeh: BokehJS is being loaded, scheduling callback at\", now());\n      return null;\n    }\n    if (js_urls == null || js_urls.length === 0) {\n      run_callbacks();\n      return null;\n    }\n    console.log(\"Bokeh: BokehJS not loaded, scheduling load and callback at\", now());\n    root._bokeh_is_loading = js_urls.length;\n    for (var i = 0; i < js_urls.length; i++) {\n      var url = js_urls[i];\n      var s = document.createElement('script');\n      s.src = url;\n      s.async = false;\n      s.onreadystatechange = s.onload = function() {\n        root._bokeh_is_loading--;\n        if (root._bokeh_is_loading === 0) {\n          console.log(\"Bokeh: all BokehJS libraries loaded\");\n          run_callbacks()\n        }\n      };\n      s.onerror = function() {\n        console.warn(\"failed to load library \" + url);\n      };\n      console.log(\"Bokeh: injecting script tag for BokehJS library: \", url);\n      document.getElementsByTagName(\"head\")[0].appendChild(s);\n    }\n  };var element = document.getElementById(\"0e6f2b6f-d604-4850-9e9c-3ef3ecad0d1e\");\n  if (element == null) {\n    console.log(\"Bokeh: ERROR: autoload.js configured with elementid '0e6f2b6f-d604-4850-9e9c-3ef3ecad0d1e' but no matching script tag was found. \")\n    return false;\n  }\n\n  var js_urls = [\"https://cdn.pydata.org/bokeh/release/bokeh-0.12.9.min.js\", \"https://cdn.pydata.org/bokeh/release/bokeh-widgets-0.12.9.min.js\", \"https://cdn.pydata.org/bokeh/release/bokeh-tables-0.12.9.min.js\", \"https://cdn.pydata.org/bokeh/release/bokeh-gl-0.12.9.min.js\"];\n\n  var inline_js = [\n    function(Bokeh) {\n      Bokeh.set_log_level(\"info\");\n    },\n    \n    function(Bokeh) {\n      \n    },\n    function(Bokeh) {\n      console.log(\"Bokeh: injecting CSS: https://cdn.pydata.org/bokeh/release/bokeh-0.12.9.min.css\");\n      Bokeh.embed.inject_css(\"https://cdn.pydata.org/bokeh/release/bokeh-0.12.9.min.css\");\n      console.log(\"Bokeh: injecting CSS: https://cdn.pydata.org/bokeh/release/bokeh-widgets-0.12.9.min.css\");\n      Bokeh.embed.inject_css(\"https://cdn.pydata.org/bokeh/release/bokeh-widgets-0.12.9.min.css\");\n      console.log(\"Bokeh: injecting CSS: https://cdn.pydata.org/bokeh/release/bokeh-tables-0.12.9.min.css\");\n      Bokeh.embed.inject_css(\"https://cdn.pydata.org/bokeh/release/bokeh-tables-0.12.9.min.css\");\n    }\n  ];\n\n  function run_inline_js() {\n    \n    if ((root.Bokeh !== undefined) || (force === true)) {\n      for (var i = 0; i < inline_js.length; i++) {\n        inline_js[i].call(root, root.Bokeh);\n      }if (force === true) {\n        display_loaded();\n      }} else if (Date.now() < root._bokeh_timeout) {\n      setTimeout(run_inline_js, 100);\n    } else if (!root._bokeh_failed_load) {\n      console.log(\"Bokeh: BokehJS failed to load within specified timeout.\");\n      root._bokeh_failed_load = true;\n    } else if (force !== true) {\n      var cell = $(document.getElementById(\"0e6f2b6f-d604-4850-9e9c-3ef3ecad0d1e\")).parents('.cell').data().cell;\n      cell.output_area.append_execute_result(NB_LOAD_WARNING)\n    }\n\n  }\n\n  if (root._bokeh_is_loading === 0) {\n    console.log(\"Bokeh: BokehJS loaded, going straight to plotting\");\n    run_inline_js();\n  } else {\n    load_libs(js_urls, function() {\n      console.log(\"Bokeh: BokehJS plotting callback run at\", now());\n      run_inline_js();\n    });\n  }\n}(window));"
     },
     "metadata": {},
     "output_type": "display_data"
    },
    {
     "data": {
      "text/html": [
       "\n",
       "<div class=\"bk-root\">\n",
       "    <div class=\"bk-plotdiv\" id=\"8f65a8ab-8a11-4b0d-bb2c-7d5ed2780e20\"></div>\n",
       "</div>"
      ]
     },
     "metadata": {},
     "output_type": "display_data"
    },
    {
     "data": {
      "application/javascript": [
       "(function(root) {\n",
       "  function embed_document(root) {\n",
       "    var docs_json = {\"1a106e1b-c1f5-4022-a4cb-78bfb5f46a60\":{\"roots\":{\"references\":[{\"attributes\":{\"formatter\":{\"id\":\"997ea113-7e24-4e41-850d-48912ae0f860\",\"type\":\"BasicTickFormatter\"},\"plot\":{\"id\":\"de31239d-dfe8-4e28-88c9-09cee0b3496f\",\"subtype\":\"Figure\",\"type\":\"Plot\"},\"ticker\":{\"id\":\"9557e315-e269-4469-887f-23c68450e8a9\",\"type\":\"BasicTicker\"}},\"id\":\"268f7d8e-bbdf-416f-abe6-268898ae94d5\",\"type\":\"LinearAxis\"},{\"attributes\":{},\"id\":\"57ed6461-e222-4e34-a77b-b120552a2208\",\"type\":\"SaveTool\"},{\"attributes\":{},\"id\":\"61c79ef6-7058-4755-a363-20b63526b693\",\"type\":\"LinearScale\"},{\"attributes\":{\"dimension\":1,\"plot\":{\"id\":\"de31239d-dfe8-4e28-88c9-09cee0b3496f\",\"subtype\":\"Figure\",\"type\":\"Plot\"},\"ticker\":{\"id\":\"9557e315-e269-4469-887f-23c68450e8a9\",\"type\":\"BasicTicker\"}},\"id\":\"ef83a55c-a283-4899-819d-9a581726d479\",\"type\":\"Grid\"},{\"attributes\":{\"line_color\":{\"value\":\"#1f77b4\"},\"x\":{\"field\":\"x\"},\"y\":{\"field\":\"y\"}},\"id\":\"6e49b151-7206-4c43-bd47-52ad0700e044\",\"type\":\"Line\"},{\"attributes\":{\"below\":[{\"id\":\"55366d84-8943-4531-bb93-c25823c67a0b\",\"type\":\"LinearAxis\"}],\"left\":[{\"id\":\"268f7d8e-bbdf-416f-abe6-268898ae94d5\",\"type\":\"LinearAxis\"}],\"renderers\":[{\"id\":\"55366d84-8943-4531-bb93-c25823c67a0b\",\"type\":\"LinearAxis\"},{\"id\":\"687efe80-236e-4fd2-886a-80f5e4d2e112\",\"type\":\"Grid\"},{\"id\":\"268f7d8e-bbdf-416f-abe6-268898ae94d5\",\"type\":\"LinearAxis\"},{\"id\":\"ef83a55c-a283-4899-819d-9a581726d479\",\"type\":\"Grid\"},{\"id\":\"556e7e65-2000-4ce5-bd38-b07a5562d989\",\"type\":\"BoxAnnotation\"},{\"id\":\"d4cb505d-9b53-49fb-9aab-f52c847e74ed\",\"type\":\"GlyphRenderer\"},{\"id\":\"de3d7b57-dd1d-4289-a83f-fca236194116\",\"type\":\"GlyphRenderer\"},{\"id\":\"94ffc1be-9007-4751-bade-15128df777d6\",\"type\":\"GlyphRenderer\"}],\"title\":{\"id\":\"bd511bb7-4d03-4503-bef2-b6f59135d31c\",\"type\":\"Title\"},\"toolbar\":{\"id\":\"b7ddb5d2-baf7-401b-9b96-6f5f54545284\",\"type\":\"Toolbar\"},\"x_range\":{\"id\":\"d07bbb86-d1e1-4103-aba5-eaa3ee9033fd\",\"type\":\"DataRange1d\"},\"x_scale\":{\"id\":\"e1c4a384-c2a6-44e1-9614-0da231d8188c\",\"type\":\"LinearScale\"},\"y_range\":{\"id\":\"3913e7be-6bd0-40f7-b9f7-46685398bfc3\",\"type\":\"DataRange1d\"},\"y_scale\":{\"id\":\"61c79ef6-7058-4755-a363-20b63526b693\",\"type\":\"LinearScale\"}},\"id\":\"de31239d-dfe8-4e28-88c9-09cee0b3496f\",\"subtype\":\"Figure\",\"type\":\"Plot\"},{\"attributes\":{},\"id\":\"a48f84ff-2ce4-45ea-89ae-d8bdd3d37dcb\",\"type\":\"HelpTool\"},{\"attributes\":{},\"id\":\"ff7053ef-8cd1-4bd3-adec-7334f32ef06d\",\"type\":\"WheelZoomTool\"},{\"attributes\":{\"data_source\":{\"id\":\"f0a249e0-e53c-4132-b40c-8be57356898f\",\"type\":\"ColumnDataSource\"},\"glyph\":{\"id\":\"6d9b2006-18dc-4d72-8b41-93bdc394c6a4\",\"type\":\"Text\"},\"hover_glyph\":null,\"muted_glyph\":null,\"nonselection_glyph\":{\"id\":\"0b9fffd4-6609-4963-945a-5b77138bee4e\",\"type\":\"Text\"},\"selection_glyph\":null,\"view\":{\"id\":\"b9ebed02-123f-41c8-b5de-295297cebf33\",\"type\":\"CDSView\"}},\"id\":\"94ffc1be-9007-4751-bade-15128df777d6\",\"type\":\"GlyphRenderer\"},{\"attributes\":{\"formatter\":{\"id\":\"d5481ca9-deac-46ae-ad66-534a2af61d2e\",\"type\":\"BasicTickFormatter\"},\"plot\":{\"id\":\"de31239d-dfe8-4e28-88c9-09cee0b3496f\",\"subtype\":\"Figure\",\"type\":\"Plot\"},\"ticker\":{\"id\":\"1a756cb2-4f2e-456f-be5a-361b2bfd65a3\",\"type\":\"BasicTicker\"}},\"id\":\"55366d84-8943-4531-bb93-c25823c67a0b\",\"type\":\"LinearAxis\"},{\"attributes\":{\"source\":{\"id\":\"8dac88e6-52bc-4a0e-849f-879d30260773\",\"type\":\"ColumnDataSource\"}},\"id\":\"e123e2d7-2f20-4b4a-9138-935ec57ae6af\",\"type\":\"CDSView\"},{\"attributes\":{\"source\":{\"id\":\"30ea2fcc-169b-4f5a-86fb-cfce5f1a2197\",\"type\":\"ColumnDataSource\"}},\"id\":\"24026727-05e3-40ca-8003-752ed7ce7893\",\"type\":\"CDSView\"},{\"attributes\":{\"bottom_units\":\"screen\",\"fill_alpha\":{\"value\":0.5},\"fill_color\":{\"value\":\"lightgrey\"},\"left_units\":\"screen\",\"level\":\"overlay\",\"line_alpha\":{\"value\":1.0},\"line_color\":{\"value\":\"black\"},\"line_dash\":[4,4],\"line_width\":{\"value\":2},\"plot\":null,\"render_mode\":\"css\",\"right_units\":\"screen\",\"top_units\":\"screen\"},\"id\":\"556e7e65-2000-4ce5-bd38-b07a5562d989\",\"type\":\"BoxAnnotation\"},{\"attributes\":{\"plot\":null,\"text\":\"\"},\"id\":\"bd511bb7-4d03-4503-bef2-b6f59135d31c\",\"type\":\"Title\"},{\"attributes\":{\"active_drag\":\"auto\",\"active_inspect\":\"auto\",\"active_scroll\":\"auto\",\"active_tap\":\"auto\",\"tools\":[{\"id\":\"ff9afbe7-33a6-43c1-8487-df304501b446\",\"type\":\"PanTool\"},{\"id\":\"ff7053ef-8cd1-4bd3-adec-7334f32ef06d\",\"type\":\"WheelZoomTool\"},{\"id\":\"06e6ea6a-05f9-4643-9de1-7fc3d4bf9d49\",\"type\":\"BoxZoomTool\"},{\"id\":\"57ed6461-e222-4e34-a77b-b120552a2208\",\"type\":\"SaveTool\"},{\"id\":\"d116893c-ad69-4bf8-8117-641c8b51fcad\",\"type\":\"ResetTool\"},{\"id\":\"a48f84ff-2ce4-45ea-89ae-d8bdd3d37dcb\",\"type\":\"HelpTool\"}]},\"id\":\"b7ddb5d2-baf7-401b-9b96-6f5f54545284\",\"type\":\"Toolbar\"},{\"attributes\":{},\"id\":\"e1c4a384-c2a6-44e1-9614-0da231d8188c\",\"type\":\"LinearScale\"},{\"attributes\":{\"line_alpha\":{\"value\":0.1},\"line_color\":{\"value\":\"#1f77b4\"},\"x\":{\"field\":\"x\"},\"y\":{\"field\":\"y\"}},\"id\":\"19f5d41b-172a-4967-acdc-a6c861d2d418\",\"type\":\"Line\"},{\"attributes\":{\"data_source\":{\"id\":\"8dac88e6-52bc-4a0e-849f-879d30260773\",\"type\":\"ColumnDataSource\"},\"glyph\":{\"id\":\"6e49b151-7206-4c43-bd47-52ad0700e044\",\"type\":\"Line\"},\"hover_glyph\":null,\"muted_glyph\":null,\"nonselection_glyph\":{\"id\":\"19f5d41b-172a-4967-acdc-a6c861d2d418\",\"type\":\"Line\"},\"selection_glyph\":null,\"view\":{\"id\":\"e123e2d7-2f20-4b4a-9138-935ec57ae6af\",\"type\":\"CDSView\"}},\"id\":\"de3d7b57-dd1d-4289-a83f-fca236194116\",\"type\":\"GlyphRenderer\"},{\"attributes\":{},\"id\":\"997ea113-7e24-4e41-850d-48912ae0f860\",\"type\":\"BasicTickFormatter\"},{\"attributes\":{\"callback\":null,\"column_names\":[\"x\",\"y\"],\"data\":{\"x\":{\"__ndarray__\":\"AAAAAAAA4L8AAAAAAADgPwAAAAAAAAAAAAAAAAAA4L8=\",\"dtype\":\"float64\",\"shape\":[4]},\"y\":{\"__ndarray__\":\"AAAAAAAA4D8AAAAAAADgPwAAAAAAAAAAAAAAAAAA4D8=\",\"dtype\":\"float64\",\"shape\":[4]}}},\"id\":\"8dac88e6-52bc-4a0e-849f-879d30260773\",\"type\":\"ColumnDataSource\"},{\"attributes\":{},\"id\":\"1a756cb2-4f2e-456f-be5a-361b2bfd65a3\",\"type\":\"BasicTicker\"},{\"attributes\":{\"text_alpha\":{\"value\":0.1},\"text_color\":{\"value\":\"black\"},\"x\":{\"field\":\"x\"},\"y\":{\"field\":\"y\"}},\"id\":\"0b9fffd4-6609-4963-945a-5b77138bee4e\",\"type\":\"Text\"},{\"attributes\":{\"callback\":null},\"id\":\"3913e7be-6bd0-40f7-b9f7-46685398bfc3\",\"type\":\"DataRange1d\"},{\"attributes\":{\"data_source\":{\"id\":\"30ea2fcc-169b-4f5a-86fb-cfce5f1a2197\",\"type\":\"ColumnDataSource\"},\"glyph\":{\"id\":\"ade58922-c938-4fca-ae8b-4cba959d1036\",\"type\":\"Line\"},\"hover_glyph\":null,\"muted_glyph\":null,\"nonselection_glyph\":{\"id\":\"83ecbe04-f32c-42b3-86b3-601a57680a49\",\"type\":\"Line\"},\"selection_glyph\":null,\"view\":{\"id\":\"24026727-05e3-40ca-8003-752ed7ce7893\",\"type\":\"CDSView\"}},\"id\":\"d4cb505d-9b53-49fb-9aab-f52c847e74ed\",\"type\":\"GlyphRenderer\"},{\"attributes\":{\"source\":{\"id\":\"f0a249e0-e53c-4132-b40c-8be57356898f\",\"type\":\"ColumnDataSource\"}},\"id\":\"b9ebed02-123f-41c8-b5de-295297cebf33\",\"type\":\"CDSView\"},{\"attributes\":{\"text_color\":{\"value\":\"black\"},\"x\":{\"field\":\"x\"},\"y\":{\"field\":\"y\"}},\"id\":\"6d9b2006-18dc-4d72-8b41-93bdc394c6a4\",\"type\":\"Text\"},{\"attributes\":{},\"id\":\"9557e315-e269-4469-887f-23c68450e8a9\",\"type\":\"BasicTicker\"},{\"attributes\":{\"line_alpha\":{\"value\":0.1},\"line_color\":{\"value\":\"#1f77b4\"},\"x\":{\"field\":\"x\"},\"y\":{\"field\":\"y\"}},\"id\":\"83ecbe04-f32c-42b3-86b3-601a57680a49\",\"type\":\"Line\"},{\"attributes\":{\"callback\":null},\"id\":\"d07bbb86-d1e1-4103-aba5-eaa3ee9033fd\",\"type\":\"DataRange1d\"},{\"attributes\":{\"callback\":null,\"column_names\":[\"text\",\"x\",\"y\"],\"data\":{\"text\":[\"design\",\"systems\",\"materials\",\"community\",\"media\",\"culture\"],\"x\":{\"__ndarray__\":\"AAAAAAAA6L8AAAAAAADQvwAAAAAAANA/AAAAAAAA6D8AAAAAAADgPwAAAAAAAOC/\",\"dtype\":\"float64\",\"shape\":[6]},\"y\":{\"__ndarray__\":\"AAAAAAAA0D8AAAAAAADoPwAAAAAAAOg/AAAAAAAA0D8AAAAAAAAAAAAAAAAAAAAA\",\"dtype\":\"float64\",\"shape\":[6]}}},\"id\":\"f0a249e0-e53c-4132-b40c-8be57356898f\",\"type\":\"ColumnDataSource\"},{\"attributes\":{\"overlay\":{\"id\":\"556e7e65-2000-4ce5-bd38-b07a5562d989\",\"type\":\"BoxAnnotation\"}},\"id\":\"06e6ea6a-05f9-4643-9de1-7fc3d4bf9d49\",\"type\":\"BoxZoomTool\"},{\"attributes\":{\"line_color\":{\"value\":\"#1f77b4\"},\"x\":{\"field\":\"x\"},\"y\":{\"field\":\"y\"}},\"id\":\"ade58922-c938-4fca-ae8b-4cba959d1036\",\"type\":\"Line\"},{\"attributes\":{},\"id\":\"d116893c-ad69-4bf8-8117-641c8b51fcad\",\"type\":\"ResetTool\"},{\"attributes\":{},\"id\":\"ff9afbe7-33a6-43c1-8487-df304501b446\",\"type\":\"PanTool\"},{\"attributes\":{\"callback\":null,\"column_names\":[\"x\",\"y\"],\"data\":{\"x\":{\"__ndarray__\":\"AAAAAAAA8L8AAAAAAADgvwAAAAAAAAAAAAAAAAAA4D8AAAAAAADwPwAAAAAAAAAAAAAAAAAA8L8=\",\"dtype\":\"float64\",\"shape\":[7]},\"y\":{\"__ndarray__\":\"AAAAAAAAAAAAAAAAAADgPwAAAAAAAPA/AAAAAAAA4D8AAAAAAAAAAAAAAAAAAAAAAAAAAAAAAAA=\",\"dtype\":\"float64\",\"shape\":[7]}}},\"id\":\"30ea2fcc-169b-4f5a-86fb-cfce5f1a2197\",\"type\":\"ColumnDataSource\"},{\"attributes\":{\"plot\":{\"id\":\"de31239d-dfe8-4e28-88c9-09cee0b3496f\",\"subtype\":\"Figure\",\"type\":\"Plot\"},\"ticker\":{\"id\":\"1a756cb2-4f2e-456f-be5a-361b2bfd65a3\",\"type\":\"BasicTicker\"}},\"id\":\"687efe80-236e-4fd2-886a-80f5e4d2e112\",\"type\":\"Grid\"},{\"attributes\":{},\"id\":\"d5481ca9-deac-46ae-ad66-534a2af61d2e\",\"type\":\"BasicTickFormatter\"}],\"root_ids\":[\"de31239d-dfe8-4e28-88c9-09cee0b3496f\"]},\"title\":\"Bokeh Application\",\"version\":\"0.12.9\"}};\n",
       "    var render_items = [{\"docid\":\"1a106e1b-c1f5-4022-a4cb-78bfb5f46a60\",\"elementid\":\"8f65a8ab-8a11-4b0d-bb2c-7d5ed2780e20\",\"modelid\":\"de31239d-dfe8-4e28-88c9-09cee0b3496f\"}];\n",
       "\n",
       "    root.Bokeh.embed.embed_items(docs_json, render_items);\n",
       "  }\n",
       "\n",
       "  if (root.Bokeh !== undefined) {\n",
       "    embed_document(root);\n",
       "  } else {\n",
       "    var attempts = 0;\n",
       "    var timer = setInterval(function(root) {\n",
       "      if (root.Bokeh !== undefined) {\n",
       "        embed_document(root);\n",
       "        clearInterval(timer);\n",
       "      }\n",
       "      attempts++;\n",
       "      if (attempts > 100) {\n",
       "        console.log(\"Bokeh: ERROR: Unable to embed document because BokehJS library is missing\")\n",
       "        clearInterval(timer);\n",
       "      }\n",
       "    }, 10, root)\n",
       "  }\n",
       "})(window);"
      ],
      "application/vnd.bokehjs_exec.v0+json": ""
     },
     "metadata": {
      "application/vnd.bokehjs_exec.v0+json": {
       "id": "de31239d-dfe8-4e28-88c9-09cee0b3496f"
      }
     },
     "output_type": "display_data"
    }
   ],
   "source": [
    "    Import('.Sierpinski Triangle');"
   ]
  },
  {
   "cell_type": "code",
   "execution_count": 6,
   "metadata": {
    "slideshow": {
     "slide_type": "subslide"
    }
   },
   "outputs": [
    {
     "data": {
      "text/markdown": [
       "    Import('.shapes');"
      ],
      "text/plain": [
       "<IPython.core.display.Markdown object>"
      ]
     },
     "metadata": {},
     "output_type": "display_data"
    },
    {
     "name": "stderr",
     "output_type": "stream",
     "text": [
      "/Users/tonyfast/anaconda/lib/python3.5/site-packages/networkx/drawing/nx_pylab.py:126: MatplotlibDeprecationWarning: pyplot.hold is deprecated.\n",
      "    Future behavior will be consistent with the long-time default:\n",
      "    plot commands add elements without first clearing the\n",
      "    Axes and/or Figure.\n",
      "  b = plt.ishold()\n",
      "/Users/tonyfast/anaconda/lib/python3.5/site-packages/networkx/drawing/nx_pylab.py:138: MatplotlibDeprecationWarning: pyplot.hold is deprecated.\n",
      "    Future behavior will be consistent with the long-time default:\n",
      "    plot commands add elements without first clearing the\n",
      "    Axes and/or Figure.\n",
      "  plt.hold(b)\n",
      "/Users/tonyfast/anaconda/lib/python3.5/site-packages/matplotlib/__init__.py:917: UserWarning: axes.hold is deprecated. Please remove it from your matplotlibrc and/or style files.\n",
      "  warnings.warn(self.msg_depr_set % key)\n",
      "/Users/tonyfast/anaconda/lib/python3.5/site-packages/matplotlib/rcsetup.py:152: UserWarning: axes.hold is deprecated, will be removed in 3.0\n",
      "  warnings.warn(\"axes.hold is deprecated, will be removed in 3.0\")\n"
     ]
    },
    {
     "data": {
      "image/png": "[encoded data removed]",
      "text/plain": [
       "<matplotlib.figure.Figure at 0x10dd4d978>"
      ]
     },
     "metadata": {},
     "output_type": "display_data"
    }
   ],
   "source": [
    "    Import('.shapes');"
   ]
  },
  {
   "cell_type": "code",
   "execution_count": 6,
   "metadata": {
    "slideshow": {
     "slide_type": "slide"
    }
   },
   "outputs": [
    {
     "data": {
      "text/markdown": [
       "# Abstracts"
      ],
      "text/plain": [
       "<IPython.core.display.Markdown object>"
      ]
     },
     "metadata": {},
     "output_type": "display_data"
    }
   ],
   "source": [
    "# Abstracts"
   ]
  },
  {
   "cell_type": "code",
   "execution_count": 6,
   "metadata": {
    "slideshow": {
     "slide_type": "fragment"
    }
   },
   "outputs": [
    {
     "data": {
      "text/markdown": [
       "# [Design]()\n",
       "\n",
       "> Design applies shared experience to    **form**s to **function**al ideas.\n",
       "## [Systems]()\n",
       "\n",
       "> Systems do work when humans can't or shouldn't.\n"
      ],
      "text/plain": [
       "<IPython.core.display.Markdown object>"
      ]
     },
     "metadata": {},
     "output_type": "display_data"
    }
   ],
   "source": [
    "{% for topic in topics[:2] %}{{the.Path().read_text().loads().get_in(['cells', 0, 'source'])[''.join](topic+'.ipynb')}}\n",
    "{% endfor %}"
   ]
  },
  {
   "cell_type": "code",
   "execution_count": 6,
   "metadata": {
    "slideshow": {
     "slide_type": "subslide"
    }
   },
   "outputs": [
    {
     "data": {
      "text/markdown": [
       "# [Materials]()\n",
       "\n",
       "> Everything is made of materials, even data.\n",
       "\n",
       "# [Community]()\n",
       "\n",
       "> A community shares resources and experiences.\n",
       "\n"
      ],
      "text/plain": [
       "<IPython.core.display.Markdown object>"
      ]
     },
     "metadata": {},
     "output_type": "display_data"
    }
   ],
   "source": [
    "{% for topic in topics[2:4] %}{{the.Path().read_text().loads().get_in(['cells', 0, 'source'])[''.join](topic+'.ipynb')}}\n",
    "\n",
    "{% endfor %}"
   ]
  },
  {
   "cell_type": "code",
   "execution_count": 6,
   "metadata": {
    "slideshow": {
     "slide_type": "subslide"
    }
   },
   "outputs": [
    {
     "data": {
      "text/markdown": [
       "# [Media]()\n",
       "\n",
       "> Media is information that triggers the senses.  The best science happens in person\n",
       "\n",
       "# [Culture]()\n",
       "\n",
       "> Culture changes with time.\n"
      ],
      "text/plain": [
       "<IPython.core.display.Markdown object>"
      ]
     },
     "metadata": {},
     "output_type": "display_data"
    }
   ],
   "source": [
    "{% for topic in topics[4:] %}{{the.Path().read_text().loads().get_in(['cells', 0, 'source'])[''.join](topic+'.ipynb')}}\n",
    "{% endfor %}"
   ]
  },
  {
   "cell_type": "code",
   "execution_count": 6,
   "metadata": {
    "slideshow": {
     "slide_type": "slide"
    }
   },
   "outputs": [
    {
     "data": {
      "text/markdown": [
       "## Particles\n",
       "\n",
       "Particles are standalone articles and presentations that are importable."
      ],
      "text/plain": [
       "<IPython.core.display.Markdown object>"
      ]
     },
     "metadata": {},
     "output_type": "display_data"
    }
   ],
   "source": [
    "## Particles\n",
    "\n",
    "Particles are standalone articles and presentations that are importable."
   ]
  },
  {
   "cell_type": "code",
   "execution_count": 7,
   "metadata": {},
   "outputs": [
    {
     "data": {
      "text/markdown": [
       "    webrtc = __import__('particles.webrtc')"
      ],
      "text/plain": [
       "<IPython.core.display.Markdown object>"
      ]
     },
     "metadata": {},
     "output_type": "display_data"
    },
    {
     "data": {
      "application/vnd.jupyter.widget-view+json": {
       "model_id": "c2dfc12364a24845bc4bba08f479fe37",
       "version_major": 2,
       "version_minor": 0
      },
      "text/plain": [
       "A Jupyter Widget"
      ]
     },
     "metadata": {},
     "output_type": "display_data"
    }
   ],
   "source": [
    "    webrtc = __import__('particles.webrtc')"
   ]
  }
 ],
 "metadata": {
  "celltoolbar": "Slideshow",
  "kernelspec": {
   "display_name": "Python 3",
   "language": "python",
   "name": "python3"
  },
  "language_info": {
   "codemirror_mode": {
    "name": "ipython",
    "version": 3
   },
   "file_extension": ".py",
   "mimetype": "text/x-python",
   "name": "python",
   "nbconvert_exporter": "python",
   "pygments_lexer": "ipython3",
   "version": "3.5.3"
  }
 },
 "nbformat": 4,
 "nbformat_minor": 2
}
