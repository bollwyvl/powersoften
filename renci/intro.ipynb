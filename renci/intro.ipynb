{
 "cells": [
  {
   "cell_type": "code",
   "execution_count": 1,
   "metadata": {
    "slideshow": {
     "slide_type": "slide"
    }
   },
   "outputs": [
    {
     "data": {
      "text/html": [
       "<style>\n",
       "    iframe {\n",
       "        width: 100%;\n",
       "        min-height: 80vh;\n",
       "    }\n",
       "    body.rise-enabled .code_cell .input,  div.reveal .code_cell .input {\n",
       "        display: none;\n",
       "    }\n",
       "</style>"
      ],
      "text/plain": [
       "<IPython.core.display.HTML object>"
      ]
     },
     "metadata": {},
     "output_type": "display_data"
    }
   ],
   "source": [
    "    from renci.style import *; from articles import *; from pandas import *; \n",
    "    %load_ext literacy.template"
   ]
  },
  {
   "cell_type": "code",
   "execution_count": 4,
   "metadata": {
    "slideshow": {
     "slide_type": "-"
    }
   },
   "outputs": [
    {
     "data": {
      "text/markdown": [
       "# Powers of_ten_\n",
       "\n",
       "A talk inspired by a collaboration between Ray and Charles Eames and International Business Machines."
      ],
      "text/plain": [
       "<IPython.core.display.Markdown object>"
      ]
     },
     "metadata": {},
     "output_type": "display_data"
    }
   ],
   "source": [
    "# Powers of_ten_\n",
    "\n",
    "A talk inspired by a collaboration between Ray and Charles Eames and International Business Machines."
   ]
  },
  {
   "cell_type": "code",
   "execution_count": 4,
   "metadata": {
    "slideshow": {
     "slide_type": "subslide"
    }
   },
   "outputs": [
    {
     "data": {
      "text/html": [
       "\n",
       "        <iframe\n",
       "            width=\"600\"\n",
       "            height=\"400\"\n",
       "            src=\"https://www.youtube.com/embed/0fKBhvDjuy0\"\n",
       "            frameborder=\"0\"\n",
       "            allowfullscreen\n",
       "        ></iframe>\n",
       "        "
      ],
      "text/plain": [
       "<IPython.lib.display.IFrame at 0x11440f0b8>"
      ]
     },
     "metadata": {},
     "output_type": "display_data"
    }
   ],
   "source": [
    "https://www.youtube.com/embed/0fKBhvDjuy0"
   ]
  },
  {
   "cell_type": "code",
   "execution_count": 2,
   "metadata": {
    "slideshow": {
     "slide_type": "slide"
    }
   },
   "outputs": [
    {
     "data": {
      "text/markdown": [
       "## Topics\n",
       "\n",
       "This presentation is inspired by simple geometries.  Eventually we settled on the following key `topics\\`\n",
       "\n",
       "\n",
       "    = 'design, systems, materials, community, media, culture'.replace(' ', '').split(',')\n",
       "    \n",
       "with the accompanying `constraints\\`\n",
       "\n",
       "    = 'functional, geographical, physical, people, sensory, time'.replace(' ', '').split(',')"
      ],
      "text/plain": [
       "<IPython.core.display.Markdown object>"
      ]
     },
     "metadata": {},
     "output_type": "display_data"
    }
   ],
   "source": [
    "## Topics\n",
    "\n",
    "This presentation is inspired by simple geometries.  Eventually we settled on the following key `topics\\`\n",
    "\n",
    "\n",
    "    = 'design, systems, materials, community, media, culture'.replace(' ', '').split(',')\n",
    "    \n",
    "with the accompanying `constraints\\`\n",
    "\n",
    "    = 'functional, geographical, physical, people, sensory, time'.replace(' ', '').split(',')"
   ]
  },
  {
   "cell_type": "code",
   "execution_count": 3,
   "metadata": {
    "slideshow": {
     "slide_type": "subslide"
    }
   },
   "outputs": [
    {
     "data": {
      "text/markdown": [
       "# [`Import\\` abstract `('.shapes')\\` for the Presentation]()`;`\n",
       "\n",
       "[]('../particles/shapes.ipynb')"
      ],
      "text/plain": [
       "<IPython.core.display.Markdown object>"
      ]
     },
     "metadata": {},
     "output_type": "display_data"
    },
    {
     "name": "stderr",
     "output_type": "stream",
     "text": [
      "/Users/tonyfast/anaconda/lib/python3.5/site-packages/networkx/drawing/nx_pylab.py:126: MatplotlibDeprecationWarning: pyplot.hold is deprecated.\n",
      "    Future behavior will be consistent with the long-time default:\n",
      "    plot commands add elements without first clearing the\n",
      "    Axes and/or Figure.\n",
      "  b = plt.ishold()\n",
      "/Users/tonyfast/anaconda/lib/python3.5/site-packages/networkx/drawing/nx_pylab.py:138: MatplotlibDeprecationWarning: pyplot.hold is deprecated.\n",
      "    Future behavior will be consistent with the long-time default:\n",
      "    plot commands add elements without first clearing the\n",
      "    Axes and/or Figure.\n",
      "  plt.hold(b)\n",
      "/Users/tonyfast/anaconda/lib/python3.5/site-packages/matplotlib/__init__.py:917: UserWarning: axes.hold is deprecated. Please remove it from your matplotlibrc and/or style files.\n",
      "  warnings.warn(self.msg_depr_set % key)\n",
      "/Users/tonyfast/anaconda/lib/python3.5/site-packages/matplotlib/rcsetup.py:152: UserWarning: axes.hold is deprecated, will be removed in 3.0\n",
      "  warnings.warn(\"axes.hold is deprecated, will be removed in 3.0\")\n"
     ]
    },
    {
     "data": {
      "image/png": "[encoded data removed]",
      "text/plain": [
       "<matplotlib.figure.Figure at 0x114400be0>"
      ]
     },
     "metadata": {},
     "output_type": "display_data"
    }
   ],
   "source": [
    "# [`Import\\` abstract `('.shapes')\\` for the Presentation]()`;`\n",
    "\n",
    "[]('../particles/shapes.ipynb')"
   ]
  },
  {
   "cell_type": "code",
   "execution_count": 4,
   "metadata": {
    "slideshow": {
     "slide_type": "subslide"
    }
   },
   "outputs": [
    {
     "data": {
      "text/html": [
       "<div>\n",
       "<style>\n",
       "    .dataframe thead tr:only-child th {\n",
       "        text-align: right;\n",
       "    }\n",
       "\n",
       "    .dataframe thead th {\n",
       "        text-align: left;\n",
       "    }\n",
       "\n",
       "    .dataframe tbody tr th {\n",
       "        vertical-align: top;\n",
       "    }\n",
       "</style>\n",
       "<table border=\"1\" class=\"dataframe\">\n",
       "  <thead>\n",
       "    <tr style=\"text-align: right;\">\n",
       "      <th></th>\n",
       "      <th>constraints</th>\n",
       "      <th>functional</th>\n",
       "      <th>geographical</th>\n",
       "      <th>physical</th>\n",
       "      <th>people</th>\n",
       "      <th>sensory</th>\n",
       "      <th>time</th>\n",
       "    </tr>\n",
       "    <tr>\n",
       "      <th>order</th>\n",
       "      <th>topic</th>\n",
       "      <th></th>\n",
       "      <th></th>\n",
       "      <th></th>\n",
       "      <th></th>\n",
       "      <th></th>\n",
       "      <th></th>\n",
       "    </tr>\n",
       "  </thead>\n",
       "  <tbody>\n",
       "    <tr>\n",
       "      <th>0</th>\n",
       "      <th>design</th>\n",
       "      <td>systems</td>\n",
       "      <td>materials</td>\n",
       "      <td>community</td>\n",
       "      <td>media</td>\n",
       "      <td>culture</td>\n",
       "      <td>design</td>\n",
       "    </tr>\n",
       "    <tr>\n",
       "      <th>1</th>\n",
       "      <th>systems</th>\n",
       "      <td>materials</td>\n",
       "      <td>community</td>\n",
       "      <td>media</td>\n",
       "      <td>culture</td>\n",
       "      <td>design</td>\n",
       "      <td>systems</td>\n",
       "    </tr>\n",
       "    <tr>\n",
       "      <th>2</th>\n",
       "      <th>materials</th>\n",
       "      <td>community</td>\n",
       "      <td>media</td>\n",
       "      <td>culture</td>\n",
       "      <td>design</td>\n",
       "      <td>systems</td>\n",
       "      <td>materials</td>\n",
       "    </tr>\n",
       "    <tr>\n",
       "      <th>3</th>\n",
       "      <th>community</th>\n",
       "      <td>media</td>\n",
       "      <td>culture</td>\n",
       "      <td>design</td>\n",
       "      <td>systems</td>\n",
       "      <td>materials</td>\n",
       "      <td>community</td>\n",
       "    </tr>\n",
       "    <tr>\n",
       "      <th>4</th>\n",
       "      <th>media</th>\n",
       "      <td>culture</td>\n",
       "      <td>design</td>\n",
       "      <td>systems</td>\n",
       "      <td>materials</td>\n",
       "      <td>community</td>\n",
       "      <td>media</td>\n",
       "    </tr>\n",
       "    <tr>\n",
       "      <th>5</th>\n",
       "      <th>culture</th>\n",
       "      <td>design</td>\n",
       "      <td>systems</td>\n",
       "      <td>materials</td>\n",
       "      <td>community</td>\n",
       "      <td>media</td>\n",
       "      <td>culture</td>\n",
       "    </tr>\n",
       "  </tbody>\n",
       "</table>\n",
       "</div>"
      ],
      "text/plain": [
       "constraints     functional geographical   physical     people    sensory  \\\n",
       "order topic                                                                \n",
       "0     design       systems    materials  community      media    culture   \n",
       "1     systems    materials    community      media    culture     design   \n",
       "2     materials  community        media    culture     design    systems   \n",
       "3     community      media      culture     design    systems  materials   \n",
       "4     media        culture       design    systems  materials  community   \n",
       "5     culture       design      systems  materials  community      media   \n",
       "\n",
       "constraints           time  \n",
       "order topic                 \n",
       "0     design        design  \n",
       "1     systems      systems  \n",
       "2     materials  materials  \n",
       "3     community  community  \n",
       "4     media          media  \n",
       "5     culture      culture  "
      ]
     },
     "execution_count": 4,
     "metadata": {},
     "output_type": "execute_result"
    }
   ],
   "source": [
    "    \n",
    "    concat([Series(\n",
    "        a.cycle().do(the[[next]*(i+1)]).take(6).list()(topics), \n",
    "        MultiIndex.from_arrays([range(6), topics], names=['order', 'topic']), name=topics[i]).rename(constraints[i])\n",
    "        for i in range(len(topics))], axis=1).pipe(lambda df: setattr(df, 'columns', df.columns.rename('constraints'))or df)"
   ]
  },
  {
   "cell_type": "code",
   "execution_count": 4,
   "metadata": {
    "slideshow": {
     "slide_type": "slide"
    }
   },
   "outputs": [
    {
     "data": {
      "text/markdown": [
       "# Abstracts"
      ],
      "text/plain": [
       "<IPython.core.display.Markdown object>"
      ]
     },
     "metadata": {},
     "output_type": "display_data"
    }
   ],
   "source": [
    "# Abstracts"
   ]
  },
  {
   "cell_type": "code",
   "execution_count": 4,
   "metadata": {
    "slideshow": {
     "slide_type": "fragment"
    }
   },
   "outputs": [
    {
     "data": {
      "text/markdown": [
       "# [Design]()\n",
       "\n",
       "> Design applies shared experience to conceptualize (non)functional ideas.\n",
       "\n",
       "Modern cultures are designed, engineered, and distributed in a way that Ray and Charles Eames could have only imagined.  Their landmark video \"Powers of Ten\" illustrated the state of the art in optics and machinery in the 1970s. \n",
       "# [Systems]()\n",
       "\n",
       "> Systems automate work for humans.  Systems may have many geographical contraints.\n",
       "\n",
       "Remote work, asychnroneous work.\n",
       "A pivotal transition in fiber optics and infrastructure was occuring when Powers of Ten was presented to the public.  The explosive growth of bandwith, processing power, sensing capabilities, and miniturization lead to inclusive of technology into our communities, media, cultures, and ultimately design.\n"
      ],
      "text/plain": [
       "<IPython.core.display.Markdown object>"
      ]
     },
     "metadata": {},
     "output_type": "display_data"
    }
   ],
   "source": [
    "{% for topic in topics[:2] %}{{the.Path().read_text().loads().get_in(['cells', 0, 'source'])[''.join](topic+'.ipynb')}}\n",
    "{% endfor %}"
   ]
  },
  {
   "cell_type": "code",
   "execution_count": 4,
   "metadata": {
    "slideshow": {
     "slide_type": "subslide"
    }
   },
   "outputs": [
    {
     "data": {
      "text/markdown": [
       "# [Materials]()\n",
       "\n",
       "> It takes work to make change.  All our designs are bound by existing or future physics.\n",
       "\n",
       "# [Community]()\n",
       "\n",
       "> A community is a group that has rules, games, information, and shared experience.\n",
       "\n",
       "Communities self-organize to engineer solutions to problems. Working within a set of geographical and material\n",
       "constraints.\n",
       "\n"
      ],
      "text/plain": [
       "<IPython.core.display.Markdown object>"
      ]
     },
     "metadata": {},
     "output_type": "display_data"
    }
   ],
   "source": [
    "{% for topic in topics[2:4] %}{{the.Path().read_text().loads().get_in(['cells', 0, 'source'])[''.join](topic+'.ipynb')}}\n",
    "\n",
    "{% endfor %}"
   ]
  },
  {
   "cell_type": "code",
   "execution_count": 4,
   "metadata": {
    "slideshow": {
     "slide_type": "subslide"
    }
   },
   "outputs": [
    {
     "data": {
      "text/markdown": [
       "# [Media]()\n",
       "\n",
       "> Media is information that triggers the senses.  The more sense the more significant.\n",
       "\n",
       "# [Culture]()\n",
       "\n",
       "> Fashion is Fickle, boo.\n",
       "\n",
       "The modern, machine-assisted cultural infrastructure for open knowledge is:\n",
       "\n",
       "- persistent\n",
       "- (human, computer) language agnostic\n",
       "- multi-domain\n",
       "- built on volunteer effort\n",
       "- decentralized\n",
       "- open source\n",
       "\n",
       "Case study: ![](https://github.com/jupyter/notebook/raw/master/notebook/static/base/images/logo.png)\n"
      ],
      "text/plain": [
       "<IPython.core.display.Markdown object>"
      ]
     },
     "metadata": {},
     "output_type": "display_data"
    }
   ],
   "source": [
    "{% for topic in topics[4:] %}{{the.Path().read_text().loads().get_in(['cells', 0, 'source'])[''.join](topic+'.ipynb')}}\n",
    "{% endfor %}"
   ]
  },
  {
   "cell_type": "code",
   "execution_count": 4,
   "metadata": {
    "slideshow": {
     "slide_type": "slide"
    }
   },
   "outputs": [
    {
     "data": {
      "text/markdown": [
       "## Particles\n",
       "\n",
       "Particles are standalone articles and presentations that are importable."
      ],
      "text/plain": [
       "<IPython.core.display.Markdown object>"
      ]
     },
     "metadata": {},
     "output_type": "display_data"
    }
   ],
   "source": [
    "## Particles\n",
    "\n",
    "Particles are standalone articles and presentations that are importable."
   ]
  }
 ],
 "metadata": {
  "celltoolbar": "Slideshow",
  "kernelspec": {
   "display_name": "Python 3",
   "language": "python",
   "name": "python3"
  },
  "language_info": {
   "codemirror_mode": {
    "name": "ipython",
    "version": 3
   },
   "file_extension": ".py",
   "mimetype": "text/x-python",
   "name": "python",
   "nbconvert_exporter": "python",
   "pygments_lexer": "ipython3",
   "version": "3.5.3"
  }
 },
 "nbformat": 4,
 "nbformat_minor": 2
}
