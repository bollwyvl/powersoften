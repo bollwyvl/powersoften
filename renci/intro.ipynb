{
 "cells": [
  {
   "cell_type": "markdown",
   "metadata": {
    "slideshow": {
     "slide_type": "slide"
    }
   },
   "source": [
    "# Powers of_ten_"
   ]
  },
  {
   "cell_type": "code",
   "execution_count": 1,
   "metadata": {},
   "outputs": [
    {
     "data": {
      "text/html": [
       "<style>\n",
       "    iframe {\n",
       "        width: 100%;\n",
       "        min-height: 80vh;\n",
       "    }\n",
       "    body.rise-enabled .code_cell .input,  div.reveal .code_cell .input {\n",
       "        display: none;\n",
       "    }\n",
       "</style>"
      ],
      "text/plain": [
       "<IPython.core.display.HTML object>"
      ]
     },
     "metadata": {},
     "output_type": "display_data"
    }
   ],
   "source": [
    "    from renci.style import *; from articles import *; from pandas import *; \n",
    "    %load_ext literacy.template"
   ]
  },
  {
   "cell_type": "code",
   "execution_count": 2,
   "metadata": {
    "slideshow": {
     "slide_type": "slide"
    }
   },
   "outputs": [
    {
     "data": {
      "text/markdown": [
       "## Topics\n",
       "\n",
       "This presentation was designed geometrically.  Eventually we settled on the following key `topics\\`\n",
       "\n",
       "\n",
       "    = 'design, systems, materials, community, media, culture'.replace(' ', '').split(',')\n",
       "    \n",
       "with the accompanying `constraints\\`\n",
       "\n",
       "    = 'functional, geographical, physical, people, sensory, time'.replace(' ', '').split(',')"
      ],
      "text/plain": [
       "<IPython.core.display.Markdown object>"
      ]
     },
     "metadata": {},
     "output_type": "display_data"
    }
   ],
   "source": [
    "## Topics\n",
    "\n",
    "This presentation was designed geometrically.  Eventually we settled on the following key `topics\\`\n",
    "\n",
    "\n",
    "    = 'design, systems, materials, community, media, culture'.replace(' ', '').split(',')\n",
    "    \n",
    "with the accompanying `constraints\\`\n",
    "\n",
    "    = 'functional, geographical, physical, people, sensory, time'.replace(' ', '').split(',')"
   ]
  },
  {
   "cell_type": "code",
   "execution_count": 3,
   "metadata": {
    "slideshow": {
     "slide_type": "subslide"
    }
   },
   "outputs": [
    {
     "data": {
      "text/html": [
       "<div>\n",
       "<style>\n",
       "    .dataframe thead tr:only-child th {\n",
       "        text-align: right;\n",
       "    }\n",
       "\n",
       "    .dataframe thead th {\n",
       "        text-align: left;\n",
       "    }\n",
       "\n",
       "    .dataframe tbody tr th {\n",
       "        vertical-align: top;\n",
       "    }\n",
       "</style>\n",
       "<table border=\"1\" class=\"dataframe\">\n",
       "  <thead>\n",
       "    <tr style=\"text-align: right;\">\n",
       "      <th></th>\n",
       "      <th>functional</th>\n",
       "      <th>geographical</th>\n",
       "      <th>physical</th>\n",
       "      <th>people</th>\n",
       "      <th>sensory</th>\n",
       "      <th>time</th>\n",
       "    </tr>\n",
       "  </thead>\n",
       "  <tbody>\n",
       "    <tr>\n",
       "      <th>design</th>\n",
       "      <td>systems</td>\n",
       "      <td>materials</td>\n",
       "      <td>community</td>\n",
       "      <td>media</td>\n",
       "      <td>culture</td>\n",
       "      <td>design</td>\n",
       "    </tr>\n",
       "    <tr>\n",
       "      <th>systems</th>\n",
       "      <td>materials</td>\n",
       "      <td>community</td>\n",
       "      <td>media</td>\n",
       "      <td>culture</td>\n",
       "      <td>design</td>\n",
       "      <td>systems</td>\n",
       "    </tr>\n",
       "    <tr>\n",
       "      <th>materials</th>\n",
       "      <td>community</td>\n",
       "      <td>media</td>\n",
       "      <td>culture</td>\n",
       "      <td>design</td>\n",
       "      <td>systems</td>\n",
       "      <td>materials</td>\n",
       "    </tr>\n",
       "    <tr>\n",
       "      <th>community</th>\n",
       "      <td>media</td>\n",
       "      <td>culture</td>\n",
       "      <td>design</td>\n",
       "      <td>systems</td>\n",
       "      <td>materials</td>\n",
       "      <td>community</td>\n",
       "    </tr>\n",
       "    <tr>\n",
       "      <th>media</th>\n",
       "      <td>culture</td>\n",
       "      <td>design</td>\n",
       "      <td>systems</td>\n",
       "      <td>materials</td>\n",
       "      <td>community</td>\n",
       "      <td>media</td>\n",
       "    </tr>\n",
       "    <tr>\n",
       "      <th>culture</th>\n",
       "      <td>design</td>\n",
       "      <td>systems</td>\n",
       "      <td>materials</td>\n",
       "      <td>community</td>\n",
       "      <td>media</td>\n",
       "      <td>culture</td>\n",
       "    </tr>\n",
       "  </tbody>\n",
       "</table>\n",
       "</div>"
      ],
      "text/plain": [
       "          functional geographical   physical     people    sensory       time\n",
       "design       systems    materials  community      media    culture     design\n",
       "systems    materials    community      media    culture     design    systems\n",
       "materials  community        media    culture     design    systems  materials\n",
       "community      media      culture     design    systems  materials  community\n",
       "media        culture       design    systems  materials  community      media\n",
       "culture       design      systems  materials  community      media    culture"
      ]
     },
     "execution_count": 3,
     "metadata": {},
     "output_type": "execute_result"
    }
   ],
   "source": [
    "    \n",
    "    concat([\n",
    "        Series(a.cycle().do(\n",
    "            the[[next]*(i+1)]\n",
    "        ).take(6).list()(topics), constraints, name=topics[i])\n",
    "        for i in range(len(topics))], axis=1).T"
   ]
  },
  {
   "cell_type": "code",
   "execution_count": 3,
   "metadata": {},
   "outputs": [
    {
     "data": {
      "text/markdown": [
       "> The index describes the topics and the columns name the constraints each topic must cope with."
      ],
      "text/plain": [
       "<IPython.core.display.Markdown object>"
      ]
     },
     "metadata": {},
     "output_type": "display_data"
    }
   ],
   "source": [
    "> The index describes the topics and the columns name the constraints each topic must cope with."
   ]
  },
  {
   "cell_type": "code",
   "execution_count": 3,
   "metadata": {
    "slideshow": {
     "slide_type": "subslide"
    }
   },
   "outputs": [
    {
     "data": {
      "text/markdown": [
       "# [Design]()\n",
       "\n",
       "> Design applies shared experience to conceptualize (non)functional ideas.\n",
       "\n",
       "Modern cultures are designed, engineered, and distributed in a way that Ray and Charles Eames could have only imagined.  Their landmark video \"Powers of Ten\" illustrated the state of the art in optics and machinery in the 1970s. \n",
       "# [Systems]()\n",
       "\n",
       "> Systems automate work for humans.  Systems may have many geographical contraints.\n",
       "\n",
       "Remote work, asychnroneous work.\n",
       "A pivotal transition in fiber optics and infrastructure was occuring when Powers of Ten was presented to the public.  The explosive growth of bandwith, processing power, sensing capabilities, and miniturization lead to inclusive of technology into our communities, media, cultures, and ultimately design.\n"
      ],
      "text/plain": [
       "<IPython.core.display.Markdown object>"
      ]
     },
     "metadata": {},
     "output_type": "display_data"
    }
   ],
   "source": [
    "{% for topic in topics[:2] %}{{the.Path().read_text().loads().get_in(['cells', 0, 'source'])[''.join](topic+'.ipynb')}}\n",
    "{% endfor %}"
   ]
  },
  {
   "cell_type": "code",
   "execution_count": 3,
   "metadata": {
    "slideshow": {
     "slide_type": "subslide"
    }
   },
   "outputs": [
    {
     "data": {
      "text/markdown": [
       "# [Materials]()\n",
       "\n",
       "> It takes work to make change.  All our designs are bound by existing or future physics.\n",
       "\n",
       "# [Community]()\n",
       "\n",
       "> A community is a group that has rules, games, information, and shared experience.\n",
       "\n",
       "Communities self-organize to engineer solutions to problems. Working within a set of geographical and material\n",
       "constraints.\n",
       "\n"
      ],
      "text/plain": [
       "<IPython.core.display.Markdown object>"
      ]
     },
     "metadata": {},
     "output_type": "display_data"
    }
   ],
   "source": [
    "{% for topic in topics[2:4] %}{{the.Path().read_text().loads().get_in(['cells', 0, 'source'])[''.join](topic+'.ipynb')}}\n",
    "\n",
    "{% endfor %}"
   ]
  },
  {
   "cell_type": "code",
   "execution_count": 3,
   "metadata": {
    "slideshow": {
     "slide_type": "subslide"
    }
   },
   "outputs": [
    {
     "data": {
      "text/markdown": [
       "# [Media]()\n",
       "\n",
       "> Media is information that triggers the senses.  The more sense the more significant.\n",
       "\n",
       "# [Culture]()\n",
       "\n",
       "> Fashion is Fickle, boo.\n",
       "\n",
       "The modern, machine-assisted cultural infrastructure for open knowledge is:\n",
       "\n",
       "- persistent\n",
       "- (human, computer) language agnostic\n",
       "- multi-domain\n",
       "- built on volunteer effort\n",
       "- decentralized\n",
       "- open source\n",
       "\n",
       "Case study: ![](https://github.com/jupyter/notebook/raw/master/notebook/static/base/images/logo.png)\n"
      ],
      "text/plain": [
       "<IPython.core.display.Markdown object>"
      ]
     },
     "metadata": {},
     "output_type": "display_data"
    }
   ],
   "source": [
    "{% for topic in topics[4:] %}{{the.Path().read_text().loads().get_in(['cells', 0, 'source'])[''.join](topic+'.ipynb')}}\n",
    "{% endfor %}"
   ]
  },
  {
   "cell_type": "code",
   "execution_count": 3,
   "metadata": {
    "slideshow": {
     "slide_type": "slide"
    }
   },
   "outputs": [
    {
     "data": {
      "text/markdown": [
       "## Particles\n",
       "\n",
       "Particles are standalone articles and presentations that are importable."
      ],
      "text/plain": [
       "<IPython.core.display.Markdown object>"
      ]
     },
     "metadata": {},
     "output_type": "display_data"
    }
   ],
   "source": [
    "## Particles\n",
    "\n",
    "Particles are standalone articles and presentations that are importable."
   ]
  }
 ],
 "metadata": {
  "celltoolbar": "Slideshow",
  "kernelspec": {
   "display_name": "Python 3",
   "language": "python",
   "name": "python3"
  },
  "language_info": {
   "codemirror_mode": {
    "name": "ipython",
    "version": 3
   },
   "file_extension": ".py",
   "mimetype": "text/x-python",
   "name": "python",
   "nbconvert_exporter": "python",
   "pygments_lexer": "ipython3",
   "version": "3.5.3"
  }
 },
 "nbformat": 4,
 "nbformat_minor": 2
}
