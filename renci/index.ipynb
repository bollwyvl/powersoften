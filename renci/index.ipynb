{
 "cells": [
  {
   "cell_type": "code",
   "execution_count": null,
   "metadata": {
    "slideshow": {
     "slide_type": "slide"
    }
   },
   "outputs": [
    {
     "data": {
      "text/html": [
       "\n        <iframe\n            width=\"600\"\n            height=\"400\"\n            src=\"intro.ipynb\"\n            frameborder=\"0\"\n            allowfullscreen\n        ></iframe>\n        "
      ]
     },
     "metadata": {},
     "output_type": "display_data"
    }
   ],
   "source": [
    "# intro"
   ]
  },
  {
   "cell_type": "code",
   "execution_count": null,
   "metadata": {
    "slideshow": {
     "slide_type": "slide"
    }
   },
   "outputs": [
    {
     "data": {
      "text/html": [
       "\n        <iframe\n            width=\"600\"\n            height=\"400\"\n            src=\"design.ipynb\"\n            frameborder=\"0\"\n            allowfullscreen\n        ></iframe>\n        "
      ]
     },
     "metadata": {},
     "output_type": "display_data"
    }
   ],
   "source": [
    "# design"
   ]
  },
  {
   "cell_type": "code",
   "execution_count": null,
   "metadata": {
    "slideshow": {
     "slide_type": "subslide"
    }
   },
   "outputs": [
    {
     "data": {
      "text/html": [
       "\n        <iframe\n            width=\"600\"\n            height=\"400\"\n            src=\"systems.ipynb\"\n            frameborder=\"0\"\n            allowfullscreen\n        ></iframe>\n        "
      ]
     },
     "metadata": {},
     "output_type": "display_data"
    }
   ],
   "source": [
    "# systems"
   ]
  },
  {
   "cell_type": "code",
   "execution_count": null,
   "metadata": {
    "slideshow": {
     "slide_type": "slide"
    }
   },
   "outputs": [
    {
     "data": {
      "text/html": [
       "\n        <iframe\n            width=\"600\"\n            height=\"400\"\n            src=\"materials.ipynb\"\n            frameborder=\"0\"\n            allowfullscreen\n        ></iframe>\n        "
      ]
     },
     "metadata": {},
     "output_type": "display_data"
    }
   ],
   "source": [
    "# materials"
   ]
  },
  {
   "cell_type": "code",
   "execution_count": null,
   "metadata": {
    "slideshow": {
     "slide_type": "subslide"
    }
   },
   "outputs": [
    {
     "data": {
      "text/html": [
       "\n        <iframe\n            width=\"600\"\n            height=\"400\"\n            src=\"community.ipynb\"\n            frameborder=\"0\"\n            allowfullscreen\n        ></iframe>\n        "
      ]
     },
     "metadata": {},
     "output_type": "display_data"
    }
   ],
   "source": [
    "# community"
   ]
  },
  {
   "cell_type": "code",
   "execution_count": null,
   "metadata": {
    "slideshow": {
     "slide_type": "subslide"
    }
   },
   "outputs": [
    {
     "data": {
      "text/html": [
       "\n        <iframe\n            width=\"600\"\n            height=\"400\"\n            src=\"media.ipynb\"\n            frameborder=\"0\"\n            allowfullscreen\n        ></iframe>\n        "
      ]
     },
     "metadata": {},
     "output_type": "display_data"
    }
   ],
   "source": [
    "# media"
   ]
  },
  {
   "cell_type": "code",
   "execution_count": null,
   "metadata": {
    "slideshow": {
     "slide_type": "subslide"
    }
   },
   "outputs": [
    {
     "data": {
      "text/html": [
       "\n        <iframe\n            width=\"600\"\n            height=\"400\"\n            src=\"culture.ipynb\"\n            frameborder=\"0\"\n            allowfullscreen\n        ></iframe>\n        ",
       "<style>\n    iframe {\n        width: 100%;\n        min-height: 80vh;\n    }\n    body.rise-enabled .code_cell .input,  div.reveal .code_cell .input {\n        display: none;\n    }\n</style>",
       "<style>.code_cell .input {display: none;}</style>"
      ]
     },
     "metadata": {},
     "output_type": "display_data"
    }
   ],
   "source": [
    "# culture"
   ]
  }
 ],
 "metadata": {},
 "nbformat": 4,
 "nbformat_minor": 2
}